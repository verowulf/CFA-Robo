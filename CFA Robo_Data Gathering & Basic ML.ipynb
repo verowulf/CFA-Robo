{
 "cells": [
  {
   "cell_type": "code",
   "execution_count": 1,
   "metadata": {
    "collapsed": true
   },
   "outputs": [],
   "source": [
    "import numpy as np    # for linear algebra\n",
    "import pandas as pd   # for data processing; Created by Wes McKinney at AQR (hedge fund)\n",
    "import matplotlib.pyplot as plt"
   ]
  },
  {
   "cell_type": "code",
   "execution_count": 2,
   "metadata": {
    "collapsed": false
   },
   "outputs": [],
   "source": [
    "import datetime\n",
    "start_date = datetime.date(2016, 1, 1)\n",
    "end_date   = datetime.date.today()\n",
    "\n",
    "#start_date = '2016-01-01'\n",
    "\n",
    "#help(datetime.datetime)    # also has hh:mm:ss.mmmmmm, tzinfo"
   ]
  },
  {
   "cell_type": "code",
   "execution_count": 3,
   "metadata": {
    "collapsed": false
   },
   "outputs": [
    {
     "data": {
      "text/html": [
       "<div>\n",
       "<table border=\"1\" class=\"dataframe\">\n",
       "  <thead>\n",
       "    <tr style=\"text-align: right;\">\n",
       "      <th></th>\n",
       "      <th>Open</th>\n",
       "      <th>High</th>\n",
       "      <th>Low</th>\n",
       "      <th>Close</th>\n",
       "      <th>Volume</th>\n",
       "      <th>Adj Close</th>\n",
       "    </tr>\n",
       "    <tr>\n",
       "      <th>Date</th>\n",
       "      <th></th>\n",
       "      <th></th>\n",
       "      <th></th>\n",
       "      <th></th>\n",
       "      <th></th>\n",
       "      <th></th>\n",
       "    </tr>\n",
       "  </thead>\n",
       "  <tbody>\n",
       "    <tr>\n",
       "      <th>2017-03-17</th>\n",
       "      <td>249.679993</td>\n",
       "      <td>249.679993</td>\n",
       "      <td>243.860001</td>\n",
       "      <td>243.940002</td>\n",
       "      <td>5405700</td>\n",
       "      <td>243.940002</td>\n",
       "    </tr>\n",
       "    <tr>\n",
       "      <th>2017-03-20</th>\n",
       "      <td>243.320007</td>\n",
       "      <td>244.929993</td>\n",
       "      <td>241.520004</td>\n",
       "      <td>242.139999</td>\n",
       "      <td>2703800</td>\n",
       "      <td>242.139999</td>\n",
       "    </tr>\n",
       "    <tr>\n",
       "      <th>2017-03-21</th>\n",
       "      <td>243.309998</td>\n",
       "      <td>243.309998</td>\n",
       "      <td>232.789993</td>\n",
       "      <td>233.000000</td>\n",
       "      <td>5614900</td>\n",
       "      <td>233.000000</td>\n",
       "    </tr>\n",
       "    <tr>\n",
       "      <th>2017-03-22</th>\n",
       "      <td>231.220001</td>\n",
       "      <td>232.919998</td>\n",
       "      <td>229.160004</td>\n",
       "      <td>231.070007</td>\n",
       "      <td>6272700</td>\n",
       "      <td>231.070007</td>\n",
       "    </tr>\n",
       "    <tr>\n",
       "      <th>2017-03-23</th>\n",
       "      <td>230.750000</td>\n",
       "      <td>234.630005</td>\n",
       "      <td>229.949997</td>\n",
       "      <td>231.899994</td>\n",
       "      <td>4637500</td>\n",
       "      <td>231.899994</td>\n",
       "    </tr>\n",
       "  </tbody>\n",
       "</table>\n",
       "</div>"
      ],
      "text/plain": [
       "                  Open        High         Low       Close   Volume  \\\n",
       "Date                                                                  \n",
       "2017-03-17  249.679993  249.679993  243.860001  243.940002  5405700   \n",
       "2017-03-20  243.320007  244.929993  241.520004  242.139999  2703800   \n",
       "2017-03-21  243.309998  243.309998  232.789993  233.000000  5614900   \n",
       "2017-03-22  231.220001  232.919998  229.160004  231.070007  6272700   \n",
       "2017-03-23  230.750000  234.630005  229.949997  231.899994  4637500   \n",
       "\n",
       "             Adj Close  \n",
       "Date                    \n",
       "2017-03-17  243.940002  \n",
       "2017-03-20  242.139999  \n",
       "2017-03-21  233.000000  \n",
       "2017-03-22  231.070007  \n",
       "2017-03-23  231.899994  "
      ]
     },
     "execution_count": 3,
     "metadata": {},
     "output_type": "execute_result"
    }
   ],
   "source": [
    "from pandas_datareader.data import DataReader    # pip install pandas-datareader\n",
    "\n",
    "SYMBOL = 'GS'\n",
    "SOURCE = 'yahoo'\n",
    "\n",
    "df_stock = DataReader(SYMBOL, SOURCE, start_date, end_date)    # http://finance.yahoo.com/quote/GS/history?p=GS\n",
    "df_stock.tail()\n",
    "\n",
    "#print(type(df_stock))    # DataFrame datatype\n",
    "#?DataReader"
   ]
  },
  {
   "cell_type": "code",
   "execution_count": 4,
   "metadata": {
    "collapsed": false
   },
   "outputs": [
    {
     "data": {
      "image/png": "[encoded data removed]",
      "text/plain": [
       "<matplotlib.figure.Figure at 0x21b0b7215f8>"
      ]
     },
     "metadata": {},
     "output_type": "display_data"
    }
   ],
   "source": [
    "df_stock[['Close', 'Adj Close']].plot()\n",
    "plt.show()"
   ]
  },
  {
   "cell_type": "code",
   "execution_count": 5,
   "metadata": {
    "collapsed": false
   },
   "outputs": [
    {
     "data": {
      "text/html": [
       "<div>\n",
       "<table border=\"1\" class=\"dataframe\">\n",
       "  <thead>\n",
       "    <tr style=\"text-align: right;\">\n",
       "      <th></th>\n",
       "      <th>Open</th>\n",
       "      <th>High</th>\n",
       "      <th>Low</th>\n",
       "      <th>Close</th>\n",
       "      <th>Volume</th>\n",
       "      <th>Adj Close</th>\n",
       "    </tr>\n",
       "  </thead>\n",
       "  <tbody>\n",
       "    <tr>\n",
       "      <th>count</th>\n",
       "      <td>308.000000</td>\n",
       "      <td>308.000000</td>\n",
       "      <td>308.000000</td>\n",
       "      <td>308.000000</td>\n",
       "      <td>3.080000e+02</td>\n",
       "      <td>308.000000</td>\n",
       "    </tr>\n",
       "    <tr>\n",
       "      <th>mean</th>\n",
       "      <td>182.349805</td>\n",
       "      <td>184.166233</td>\n",
       "      <td>180.719155</td>\n",
       "      <td>182.514253</td>\n",
       "      <td>3.745369e+06</td>\n",
       "      <td>181.087732</td>\n",
       "    </tr>\n",
       "    <tr>\n",
       "      <th>std</th>\n",
       "      <td>36.529823</td>\n",
       "      <td>36.713560</td>\n",
       "      <td>36.337247</td>\n",
       "      <td>36.564949</td>\n",
       "      <td>1.682694e+06</td>\n",
       "      <td>37.168599</td>\n",
       "    </tr>\n",
       "    <tr>\n",
       "      <th>min</th>\n",
       "      <td>140.070007</td>\n",
       "      <td>141.229996</td>\n",
       "      <td>138.199997</td>\n",
       "      <td>139.509995</td>\n",
       "      <td>1.440800e+06</td>\n",
       "      <td>138.175485</td>\n",
       "    </tr>\n",
       "    <tr>\n",
       "      <th>25%</th>\n",
       "      <td>156.167496</td>\n",
       "      <td>157.980003</td>\n",
       "      <td>154.492504</td>\n",
       "      <td>155.962498</td>\n",
       "      <td>2.538750e+06</td>\n",
       "      <td>153.691385</td>\n",
       "    </tr>\n",
       "    <tr>\n",
       "      <th>50%</th>\n",
       "      <td>165.345001</td>\n",
       "      <td>166.729996</td>\n",
       "      <td>163.895004</td>\n",
       "      <td>165.435005</td>\n",
       "      <td>3.270050e+06</td>\n",
       "      <td>163.327207</td>\n",
       "    </tr>\n",
       "    <tr>\n",
       "      <th>75%</th>\n",
       "      <td>216.632496</td>\n",
       "      <td>222.140003</td>\n",
       "      <td>216.315002</td>\n",
       "      <td>220.307495</td>\n",
       "      <td>4.578850e+06</td>\n",
       "      <td>219.733156</td>\n",
       "    </tr>\n",
       "    <tr>\n",
       "      <th>max</th>\n",
       "      <td>253.710007</td>\n",
       "      <td>255.149994</td>\n",
       "      <td>251.259995</td>\n",
       "      <td>252.889999</td>\n",
       "      <td>1.134540e+07</td>\n",
       "      <td>252.889999</td>\n",
       "    </tr>\n",
       "  </tbody>\n",
       "</table>\n",
       "</div>"
      ],
      "text/plain": [
       "             Open        High         Low       Close        Volume  \\\n",
       "count  308.000000  308.000000  308.000000  308.000000  3.080000e+02   \n",
       "mean   182.349805  184.166233  180.719155  182.514253  3.745369e+06   \n",
       "std     36.529823   36.713560   36.337247   36.564949  1.682694e+06   \n",
       "min    140.070007  141.229996  138.199997  139.509995  1.440800e+06   \n",
       "25%    156.167496  157.980003  154.492504  155.962498  2.538750e+06   \n",
       "50%    165.345001  166.729996  163.895004  165.435005  3.270050e+06   \n",
       "75%    216.632496  222.140003  216.315002  220.307495  4.578850e+06   \n",
       "max    253.710007  255.149994  251.259995  252.889999  1.134540e+07   \n",
       "\n",
       "        Adj Close  \n",
       "count  308.000000  \n",
       "mean   181.087732  \n",
       "std     37.168599  \n",
       "min    138.175485  \n",
       "25%    153.691385  \n",
       "50%    163.327207  \n",
       "75%    219.733156  \n",
       "max    252.889999  "
      ]
     },
     "execution_count": 5,
     "metadata": {},
     "output_type": "execute_result"
    }
   ],
   "source": [
    "df_stock.describe()"
   ]
  },
  {
   "cell_type": "code",
   "execution_count": 6,
   "metadata": {
    "collapsed": false
   },
   "outputs": [
    {
     "data": {
      "text/html": [
       "<div>\n",
       "<table border=\"1\" class=\"dataframe\">\n",
       "  <thead>\n",
       "    <tr style=\"text-align: right;\">\n",
       "      <th></th>\n",
       "      <th>Open</th>\n",
       "      <th>High</th>\n",
       "      <th>Low</th>\n",
       "      <th>Close</th>\n",
       "      <th>Volume</th>\n",
       "      <th>Adj Close</th>\n",
       "    </tr>\n",
       "  </thead>\n",
       "  <tbody>\n",
       "    <tr>\n",
       "      <th>Open</th>\n",
       "      <td>1.000000</td>\n",
       "      <td>0.999112</td>\n",
       "      <td>0.999162</td>\n",
       "      <td>0.998120</td>\n",
       "      <td>0.017910</td>\n",
       "      <td>0.998039</td>\n",
       "    </tr>\n",
       "    <tr>\n",
       "      <th>High</th>\n",
       "      <td>0.999112</td>\n",
       "      <td>1.000000</td>\n",
       "      <td>0.999074</td>\n",
       "      <td>0.999229</td>\n",
       "      <td>0.035755</td>\n",
       "      <td>0.999063</td>\n",
       "    </tr>\n",
       "    <tr>\n",
       "      <th>Low</th>\n",
       "      <td>0.999162</td>\n",
       "      <td>0.999074</td>\n",
       "      <td>1.000000</td>\n",
       "      <td>0.999217</td>\n",
       "      <td>0.006667</td>\n",
       "      <td>0.999217</td>\n",
       "    </tr>\n",
       "    <tr>\n",
       "      <th>Close</th>\n",
       "      <td>0.998120</td>\n",
       "      <td>0.999229</td>\n",
       "      <td>0.999217</td>\n",
       "      <td>1.000000</td>\n",
       "      <td>0.021995</td>\n",
       "      <td>0.999906</td>\n",
       "    </tr>\n",
       "    <tr>\n",
       "      <th>Volume</th>\n",
       "      <td>0.017910</td>\n",
       "      <td>0.035755</td>\n",
       "      <td>0.006667</td>\n",
       "      <td>0.021995</td>\n",
       "      <td>1.000000</td>\n",
       "      <td>0.017413</td>\n",
       "    </tr>\n",
       "    <tr>\n",
       "      <th>Adj Close</th>\n",
       "      <td>0.998039</td>\n",
       "      <td>0.999063</td>\n",
       "      <td>0.999217</td>\n",
       "      <td>0.999906</td>\n",
       "      <td>0.017413</td>\n",
       "      <td>1.000000</td>\n",
       "    </tr>\n",
       "  </tbody>\n",
       "</table>\n",
       "</div>"
      ],
      "text/plain": [
       "               Open      High       Low     Close    Volume  Adj Close\n",
       "Open       1.000000  0.999112  0.999162  0.998120  0.017910   0.998039\n",
       "High       0.999112  1.000000  0.999074  0.999229  0.035755   0.999063\n",
       "Low        0.999162  0.999074  1.000000  0.999217  0.006667   0.999217\n",
       "Close      0.998120  0.999229  0.999217  1.000000  0.021995   0.999906\n",
       "Volume     0.017910  0.035755  0.006667  0.021995  1.000000   0.017413\n",
       "Adj Close  0.998039  0.999063  0.999217  0.999906  0.017413   1.000000"
      ]
     },
     "execution_count": 6,
     "metadata": {},
     "output_type": "execute_result"
    }
   ],
   "source": [
    "df_stock.corr()"
   ]
  },
  {
   "cell_type": "code",
   "execution_count": 7,
   "metadata": {
    "collapsed": false
   },
   "outputs": [],
   "source": [
    "#df_stock.to_csv('StockData/GS.csv')    # *.csv: Comma Separated Values\n",
    "\n",
    "import os\n",
    "\n",
    "# return csv file path given SYMBOL\n",
    "def symbol_to_path(symbol, base_dir='StockData'):\n",
    "    return os.path.join(base_dir, '{}.csv'.format(str(symbol)))\n",
    "\n",
    "df_stock.to_csv(symbol_to_path(SYMBOL))"
   ]
  },
  {
   "cell_type": "code",
   "execution_count": 8,
   "metadata": {
    "collapsed": false,
    "scrolled": true
   },
   "outputs": [
    {
     "data": {
      "text/html": [
       "<div>\n",
       "<table border=\"1\" class=\"dataframe\">\n",
       "  <thead>\n",
       "    <tr style=\"text-align: right;\">\n",
       "      <th></th>\n",
       "      <th>Date</th>\n",
       "      <th>Open</th>\n",
       "      <th>High</th>\n",
       "      <th>Low</th>\n",
       "      <th>Close</th>\n",
       "      <th>Volume</th>\n",
       "      <th>Adj Close</th>\n",
       "    </tr>\n",
       "  </thead>\n",
       "  <tbody>\n",
       "    <tr>\n",
       "      <th>0</th>\n",
       "      <td>2016-01-04</td>\n",
       "      <td>175.789993</td>\n",
       "      <td>177.190002</td>\n",
       "      <td>173.759995</td>\n",
       "      <td>177.139999</td>\n",
       "      <td>3745500</td>\n",
       "      <td>173.974020</td>\n",
       "    </tr>\n",
       "    <tr>\n",
       "      <th>1</th>\n",
       "      <td>2016-01-05</td>\n",
       "      <td>176.710007</td>\n",
       "      <td>177.500000</td>\n",
       "      <td>172.919998</td>\n",
       "      <td>174.089996</td>\n",
       "      <td>4521600</td>\n",
       "      <td>170.978529</td>\n",
       "    </tr>\n",
       "    <tr>\n",
       "      <th>2</th>\n",
       "      <td>2016-01-06</td>\n",
       "      <td>171.309998</td>\n",
       "      <td>172.020004</td>\n",
       "      <td>169.100006</td>\n",
       "      <td>169.839996</td>\n",
       "      <td>5539400</td>\n",
       "      <td>166.804488</td>\n",
       "    </tr>\n",
       "    <tr>\n",
       "      <th>3</th>\n",
       "      <td>2016-01-07</td>\n",
       "      <td>166.669998</td>\n",
       "      <td>169.500000</td>\n",
       "      <td>163.600006</td>\n",
       "      <td>164.619995</td>\n",
       "      <td>5687900</td>\n",
       "      <td>161.677783</td>\n",
       "    </tr>\n",
       "    <tr>\n",
       "      <th>4</th>\n",
       "      <td>2016-01-08</td>\n",
       "      <td>166.750000</td>\n",
       "      <td>168.419998</td>\n",
       "      <td>163.630005</td>\n",
       "      <td>163.940002</td>\n",
       "      <td>4929800</td>\n",
       "      <td>161.009944</td>\n",
       "    </tr>\n",
       "  </tbody>\n",
       "</table>\n",
       "</div>"
      ],
      "text/plain": [
       "         Date        Open        High         Low       Close   Volume  \\\n",
       "0  2016-01-04  175.789993  177.190002  173.759995  177.139999  3745500   \n",
       "1  2016-01-05  176.710007  177.500000  172.919998  174.089996  4521600   \n",
       "2  2016-01-06  171.309998  172.020004  169.100006  169.839996  5539400   \n",
       "3  2016-01-07  166.669998  169.500000  163.600006  164.619995  5687900   \n",
       "4  2016-01-08  166.750000  168.419998  163.630005  163.940002  4929800   \n",
       "\n",
       "    Adj Close  \n",
       "0  173.974020  \n",
       "1  170.978529  \n",
       "2  166.804488  \n",
       "3  161.677783  \n",
       "4  161.009944  "
      ]
     },
     "execution_count": 8,
     "metadata": {},
     "output_type": "execute_result"
    }
   ],
   "source": [
    "df_csv = pd.read_csv(symbol_to_path(SYMBOL))\n",
    "# After read_csv, the Date index becomes another column, and instead an integer index\n",
    "\n",
    "df_csv.head()"
   ]
  },
  {
   "cell_type": "code",
   "execution_count": 9,
   "metadata": {
    "collapsed": false
   },
   "outputs": [
    {
     "data": {
      "text/plain": [
       "0    173.974020\n",
       "1    170.978529\n",
       "2    166.804488\n",
       "3    161.677783\n",
       "4    161.009944\n",
       "5    162.767945\n",
       "6    162.748313\n",
       "7    156.148417\n",
       "8    158.505516\n",
       "9    152.828822\n",
       "Name: Adj Close, dtype: float64"
      ]
     },
     "execution_count": 9,
     "metadata": {},
     "output_type": "execute_result"
    }
   ],
   "source": [
    "df_AC = df_csv['Adj Close']\n",
    "df_AC[0:10]"
   ]
  },
  {
   "cell_type": "code",
   "execution_count": 10,
   "metadata": {
    "collapsed": false
   },
   "outputs": [],
   "source": [
    "AC = df_csv['Adj Close'].values    # Eliminates the integer index\n",
    "#type(AC)    # numpy array datatype"
   ]
  },
  {
   "cell_type": "code",
   "execution_count": 11,
   "metadata": {
    "collapsed": false
   },
   "outputs": [
    {
     "name": "stdout",
     "output_type": "stream",
     "text": [
      "308 284 170 56 58\n"
     ]
    }
   ],
   "source": [
    "n = 20    # how many to look back\n",
    "p = 5     # how many to look forward\n",
    "m = len(AC) - n - p + 1    # num of usable sample sets\n",
    "\n",
    "# To manually split tn:cv:tt = 0.6:0.2:0.2 (since we don't want to shuffle)\n",
    "pct_tn = 0.6    # percentage of training data\n",
    "pct_cv = 0.2    # percentage of cross validation data\n",
    "m_tn = int(m * pct_tn)\n",
    "m_cv = int(m * pct_cv)\n",
    "m_tt = m - m_tn - m_cv\n",
    "\n",
    "print(len(AC), m, m_tn, m_cv, m_tt)\n",
    "# print(m_tn + n + p - 1)    # for [0,1] scaling"
   ]
  },
  {
   "cell_type": "code",
   "execution_count": 12,
   "metadata": {
    "collapsed": true
   },
   "outputs": [],
   "source": [
    "from sklearn import preprocessing\n",
    "\n",
    "# Standard Normalization\n",
    "#sc = preprocessing.StandardScaler()\n",
    "#print(sc)\n",
    "#sc.fit(X_tn.reshape(-1,1))    # Fit using training set\n",
    "#AC_sc = sc.transform(AC.reshape(-1, 1))    # Transform all\n",
    "\n",
    "# Manually scale to unit length: [0,1]\n",
    "# However, especially when new data is outside of [0,1], the learned model fails\n",
    "# Therefore, [0,1] scaling should be done for each and every set of data\n",
    "#AC_tn = AC[:m_tn + n + p - 1]\n",
    "#AC_tn_max = AC_tn.max(axis=0)\n",
    "#AC_tn_min = AC_tn.min(axis=0)\n",
    "#AC_sc = (AC - AC_tn_min) / (AC_tn_max - AC_tn_min)"
   ]
  },
  {
   "cell_type": "code",
   "execution_count": 24,
   "metadata": {
    "collapsed": false
   },
   "outputs": [
    {
     "name": "stdout",
     "output_type": "stream",
     "text": [
      "MinMaxScaler(copy=True, feature_range=(0, 1))\n"
     ]
    }
   ],
   "source": [
    "X = np.zeros((m, n))\n",
    "\n",
    "# Scale to unit length: [0,1]\n",
    "mMs = preprocessing.MinMaxScaler()\n",
    "print(mMs)\n",
    "\n",
    "# Note that i is defined as at the end of the trading day\n",
    "for i in range(m):\n",
    "    X[i] = AC[i:i+n]\n",
    "    X[i] = mMs.fit_transform(X[i].reshape(-1, 1)).reshape(n)\n",
    "\n",
    "y = np.where(AC[n+p-1:] > AC[n-1:-p], 1., 0.)    # float datatype"
   ]
  },
  {
   "cell_type": "code",
   "execution_count": 25,
   "metadata": {
    "collapsed": false
   },
   "outputs": [
    {
     "name": "stdout",
     "output_type": "stream",
     "text": [
      "[ 1.          0.96615589  0.87228609  0.6628354   0.58237602  0.4265649\n",
      "  0.42464927  0.45466211  0.39144338  0.5261816   0.56449611  0.55108576\n",
      "  0.8397194   0.15006421  0.          0.18518573  0.38250343  0.57918297\n",
      "  0.55811008  0.31545349]\n",
      "0.315453492369\n"
     ]
    }
   ],
   "source": [
    "i = 107\n",
    "print(X[i])\n",
    "print(X[i][n-1])"
   ]
  },
  {
   "cell_type": "code",
   "execution_count": 15,
   "metadata": {
    "collapsed": false,
    "scrolled": true
   },
   "outputs": [
    {
     "data": {
      "text/plain": [
       "array([ 0.,  0.,  0.,  0.,  0.,  0.,  1.,  1.,  1.,  1.,  0.,  0.,  1.,\n",
       "        1.,  1.,  1.,  1.,  1.,  1.,  1.,  0.,  0.,  0.,  0.,  0.,  1.,\n",
       "        1.,  1.,  1.,  1.,  1.,  1.,  1.,  0.,  0.,  1.,  1.,  1.,  1.,\n",
       "        1.,  0.,  0.,  0.,  0.,  0.,  1.,  1.,  1.,  1.,  1.,  1.,  1.,\n",
       "        1.,  1.,  1.,  0.,  0.,  0.,  1.,  0.,  0.,  0.,  0.,  0.,  0.,\n",
       "        0.,  0.,  0.,  0.,  0.,  1.,  0.,  0.,  1.,  1.,  1.,  1.,  1.,\n",
       "        1.,  1.,  0.,  0.,  0.,  0.,  0.,  0.,  0.,  0.,  0.,  0.,  0.,\n",
       "        0.,  0.,  1.,  1.,  1.,  0.,  0.,  0.,  0.,  0.,  1.,  1.,  1.,\n",
       "        1.,  1.,  1.,  1.,  1.,  1.,  1.,  1.,  1.,  1.,  0.,  0.,  0.,\n",
       "        0.,  0.,  1.,  0.,  0.,  0.,  0.,  0.,  1.,  1.,  1.,  1.,  1.,\n",
       "        1.,  1.,  1.,  1.,  1.,  1.,  1.,  1.,  0.,  0.,  0.,  1.,  1.,\n",
       "        1.,  1.,  1.,  1.,  1.,  1.,  1.,  1.,  0.,  0.,  0.,  0.,  0.,\n",
       "        0.,  1.,  0.,  0.,  0.,  0.,  0.,  0.,  0.,  0.,  0.,  1.,  1.,\n",
       "        1.,  1.,  1.,  1.,  1.,  1.,  0.,  1.,  1.,  1.,  1.,  1.,  1.,\n",
       "        1.,  1.,  1.,  1.,  1.,  0.,  0.,  0.,  1.,  1.,  1.,  1.,  1.,\n",
       "        1.,  1.,  1.,  1.,  1.,  1.,  0.,  1.,  1.,  0.,  1.,  1.,  1.,\n",
       "        1.,  1.,  1.,  1.,  1.,  1.,  1.,  1.,  1.,  1.,  0.,  1.,  1.,\n",
       "        1.,  0.,  1.,  1.,  0.,  0.,  0.,  1.,  1.,  1.,  1.,  1.,  1.,\n",
       "        1.,  1.,  0.,  0.,  0.,  0.,  0.,  0.,  0.,  1.,  1.,  1.,  1.,\n",
       "        0.,  0.,  0.,  1.,  1.,  1.,  1.,  1.,  1.,  1.,  1.,  1.,  1.,\n",
       "        1.,  1.,  1.,  1.,  0.,  0.,  0.,  1.,  1.,  1.,  1.,  1.,  0.,\n",
       "        0.,  0.,  0.,  0.,  0.,  0.,  0.,  0.,  0.,  0.,  0.])"
      ]
     },
     "execution_count": 15,
     "metadata": {},
     "output_type": "execute_result"
    }
   ],
   "source": [
    "y"
   ]
  },
  {
   "cell_type": "code",
   "execution_count": 16,
   "metadata": {
    "collapsed": false
   },
   "outputs": [],
   "source": [
    "# Split manually\n",
    "X_tn = X[:m_tn]\n",
    "y_tn = y[:m_tn]\n",
    "X_cv = X[m_tn:m_tn+m_cv]\n",
    "y_cv = y[m_tn:m_tn+m_cv]\n",
    "X_tt = X[-m_tt:]\n",
    "y_tt = y[-m_tt:]\n",
    "\n",
    "#from sklearn.model_selection import train_test_split    # old version: from sklearn.cross_validation import train_test_split\n",
    "\n",
    "# Split tn:tt = 0.7:0.3\n",
    "# X_tn, X_tt, y_tn, y_tt = train_test_split(X, y, test_size=0.3, random_state=27)\n",
    "\n",
    "# Split tn:cv:tt = 0.6:0.2:0.2\n",
    "#X_tn, X_temp, y_tn, y_temp = train_test_split(X, y, test_size=0.4, random_state=27)\n",
    "#X_cv, X_tt, y_cv, y_tt = train_test_split(X_temp, y_temp, test_size=0.5, random_state=27)"
   ]
  },
  {
   "cell_type": "code",
   "execution_count": 26,
   "metadata": {
    "collapsed": false
   },
   "outputs": [
    {
     "name": "stdout",
     "output_type": "stream",
     "text": [
      "KNeighborsClassifier(algorithm='auto', leaf_size=30, metric='minkowski',\n",
      "           metric_params=None, n_jobs=1, n_neighbors=11, p=2,\n",
      "           weights='uniform')\n",
      "0.658823529412\n",
      "0.392857142857\n",
      "0.51724137931\n"
     ]
    },
    {
     "data": {
      "text/plain": [
       "array([ 0.,  1.,  1.,  1.,  1.,  1.,  1.,  1.,  1.,  1.,  1.,  1.,  1.,\n",
       "        0.,  0.,  1.,  1.,  1.,  1.,  1.,  1.,  1.,  0.,  0.,  0.,  1.,\n",
       "        1.,  1.,  1.,  1.,  1.,  1.,  1.,  1.,  0.,  0.,  0.,  0.,  0.,\n",
       "        0.,  0.,  0.,  0.,  0.,  0.,  0.,  0.,  1.,  1.,  1.,  1.,  1.,\n",
       "        1.,  1.,  1.,  1.,  1.,  1.])"
      ]
     },
     "execution_count": 26,
     "metadata": {},
     "output_type": "execute_result"
    }
   ],
   "source": [
    "from sklearn.neighbors import KNeighborsClassifier\n",
    "\n",
    "clf_knn = KNeighborsClassifier(n_neighbors=11, p=2, metric='minkowski')\n",
    "print(clf_knn)\n",
    "\n",
    "clf_knn.fit(X_tn, y_tn)\n",
    "\n",
    "print(clf_knn.score(X_tn, y_tn))\n",
    "print(clf_knn.score(X_cv, y_cv))\n",
    "print(clf_knn.score(X_tt, y_tt))\n",
    "clf_knn.predict(X_tt)"
   ]
  },
  {
   "cell_type": "code",
   "execution_count": 27,
   "metadata": {
    "collapsed": false
   },
   "outputs": [
    {
     "data": {
      "text/plain": [
       "array([[ 0.        ,  0.54545455,  0.45454545],\n",
       "       [ 1.        ,  0.45454545,  0.54545455],\n",
       "       [ 1.        ,  0.36363636,  0.63636364],\n",
       "       [ 1.        ,  0.27272727,  0.72727273],\n",
       "       [ 1.        ,  0.36363636,  0.63636364],\n",
       "       [ 1.        ,  0.27272727,  0.72727273],\n",
       "       [ 1.        ,  0.27272727,  0.72727273],\n",
       "       [ 1.        ,  0.18181818,  0.81818182],\n",
       "       [ 1.        ,  0.27272727,  0.72727273],\n",
       "       [ 1.        ,  0.27272727,  0.72727273],\n",
       "       [ 1.        ,  0.45454545,  0.54545455],\n",
       "       [ 1.        ,  0.36363636,  0.63636364],\n",
       "       [ 1.        ,  0.45454545,  0.54545455],\n",
       "       [ 0.        ,  0.72727273,  0.27272727],\n",
       "       [ 0.        ,  0.72727273,  0.27272727],\n",
       "       [ 1.        ,  0.45454545,  0.54545455],\n",
       "       [ 1.        ,  0.27272727,  0.72727273],\n",
       "       [ 1.        ,  0.36363636,  0.63636364],\n",
       "       [ 1.        ,  0.45454545,  0.54545455],\n",
       "       [ 1.        ,  0.36363636,  0.63636364],\n",
       "       [ 1.        ,  0.36363636,  0.63636364],\n",
       "       [ 1.        ,  0.45454545,  0.54545455],\n",
       "       [ 0.        ,  0.54545455,  0.45454545],\n",
       "       [ 0.        ,  0.63636364,  0.36363636],\n",
       "       [ 0.        ,  0.63636364,  0.36363636],\n",
       "       [ 1.        ,  0.45454545,  0.54545455],\n",
       "       [ 1.        ,  0.18181818,  0.81818182],\n",
       "       [ 1.        ,  0.09090909,  0.90909091],\n",
       "       [ 1.        ,  0.        ,  1.        ],\n",
       "       [ 1.        ,  0.18181818,  0.81818182],\n",
       "       [ 1.        ,  0.36363636,  0.63636364],\n",
       "       [ 1.        ,  0.45454545,  0.54545455],\n",
       "       [ 1.        ,  0.45454545,  0.54545455],\n",
       "       [ 1.        ,  0.36363636,  0.63636364],\n",
       "       [ 0.        ,  0.54545455,  0.45454545],\n",
       "       [ 0.        ,  0.72727273,  0.27272727],\n",
       "       [ 0.        ,  0.72727273,  0.27272727],\n",
       "       [ 0.        ,  0.63636364,  0.36363636],\n",
       "       [ 0.        ,  0.81818182,  0.18181818],\n",
       "       [ 0.        ,  0.90909091,  0.09090909],\n",
       "       [ 0.        ,  0.90909091,  0.09090909],\n",
       "       [ 0.        ,  0.72727273,  0.27272727],\n",
       "       [ 0.        ,  0.63636364,  0.36363636],\n",
       "       [ 0.        ,  0.63636364,  0.36363636],\n",
       "       [ 0.        ,  0.72727273,  0.27272727],\n",
       "       [ 0.        ,  0.63636364,  0.36363636],\n",
       "       [ 0.        ,  0.54545455,  0.45454545],\n",
       "       [ 1.        ,  0.45454545,  0.54545455],\n",
       "       [ 1.        ,  0.36363636,  0.63636364],\n",
       "       [ 1.        ,  0.36363636,  0.63636364],\n",
       "       [ 1.        ,  0.36363636,  0.63636364],\n",
       "       [ 1.        ,  0.27272727,  0.72727273],\n",
       "       [ 1.        ,  0.36363636,  0.63636364],\n",
       "       [ 1.        ,  0.18181818,  0.81818182],\n",
       "       [ 1.        ,  0.18181818,  0.81818182],\n",
       "       [ 1.        ,  0.45454545,  0.54545455],\n",
       "       [ 1.        ,  0.45454545,  0.54545455],\n",
       "       [ 1.        ,  0.45454545,  0.54545455]])"
      ]
     },
     "execution_count": 27,
     "metadata": {},
     "output_type": "execute_result"
    }
   ],
   "source": [
    "# Comparing predict() vs predict_proba()\n",
    "np.column_stack([clf_knn.predict(X_tt), clf_knn.predict_proba(X_tt)])"
   ]
  },
  {
   "cell_type": "code",
   "execution_count": 28,
   "metadata": {
    "collapsed": false
   },
   "outputs": [
    {
     "name": "stdout",
     "output_type": "stream",
     "text": [
      "LinearSVC(C=1.0, class_weight=None, dual=True, fit_intercept=True,\n",
      "     intercept_scaling=1, loss='squared_hinge', max_iter=1000,\n",
      "     multi_class='ovr', penalty='l2', random_state=None, tol=0.0001,\n",
      "     verbose=0)\n",
      "0.688235294118\n",
      "0.339285714286\n",
      "0.586206896552\n"
     ]
    },
    {
     "data": {
      "text/plain": [
       "array([ 0.,  1.,  1.,  1.,  1.,  1.,  1.,  1.,  1.,  1.,  1.,  0.,  0.,\n",
       "        0.,  0.,  0.,  0.,  1.,  1.,  1.,  1.,  1.,  1.,  1.,  1.,  1.,\n",
       "        1.,  1.,  1.,  1.,  1.,  0.,  0.,  0.,  0.,  0.,  0.,  0.,  0.,\n",
       "        0.,  0.,  0.,  0.,  0.,  1.,  1.,  1.,  1.,  0.,  1.,  1.,  1.,\n",
       "        1.,  1.,  1.,  1.,  0.,  0.])"
      ]
     },
     "execution_count": 28,
     "metadata": {},
     "output_type": "execute_result"
    }
   ],
   "source": [
    "from sklearn.svm import LinearSVC\n",
    "clf_svm = LinearSVC()\n",
    "print(clf_svm)\n",
    "\n",
    "clf_svm.fit(X_tn, y_tn)\n",
    "print(clf_svm.score(X_tn, y_tn))\n",
    "print(clf_svm.score(X_cv, y_cv))\n",
    "print(clf_svm.score(X_tt, y_tt))\n",
    "clf_svm.predict(X_tt)"
   ]
  },
  {
   "cell_type": "code",
   "execution_count": 29,
   "metadata": {
    "collapsed": false
   },
   "outputs": [
    {
     "name": "stdout",
     "output_type": "stream",
     "text": [
      "1.0\n",
      "0.375\n",
      "0.5\n"
     ]
    },
    {
     "data": {
      "text/plain": [
       "array([ 0.,  1.,  1.,  1.,  1.,  1.,  1.,  1.,  1.,  1.,  0.,  0.,  1.,\n",
       "        0.,  0.,  1.,  1.,  1.,  1.,  1.,  1.,  0.,  0.,  0.,  0.,  0.,\n",
       "        1.,  1.,  1.,  0.,  0.,  0.,  0.,  0.,  0.,  0.,  0.,  0.,  0.,\n",
       "        0.,  0.,  0.,  0.,  0.,  1.,  1.,  1.,  1.,  1.,  1.,  1.,  1.,\n",
       "        1.,  1.,  1.,  1.,  1.,  0.])"
      ]
     },
     "execution_count": 29,
     "metadata": {},
     "output_type": "execute_result"
    }
   ],
   "source": [
    "from sklearn.ensemble import RandomForestClassifier\n",
    "clf_raf = RandomForestClassifier(n_estimators=50)\n",
    "\n",
    "clf_raf.fit(X_tn, y_tn)\n",
    "print(clf_raf.score(X_tn, y_tn))\n",
    "print(clf_raf.score(X_cv, y_cv))\n",
    "print(clf_raf.score(X_tt, y_tt))\n",
    "clf_raf.predict(X_tt)"
   ]
  },
  {
   "cell_type": "code",
   "execution_count": 21,
   "metadata": {
    "collapsed": true
   },
   "outputs": [],
   "source": [
    "# Function to get data from several csv files\n",
    "import pandas as pd\n",
    "\n",
    "def get_data(symbols, dates):\n",
    "    df = pd.DataFrame(index=dates)\n",
    "    if 'SPY' not in symbols:\n",
    "        symbols.insert(0, 'SPY')\n",
    "\n",
    "    for symbol in symbols:\n",
    "        df_temp = pd.read_csv(symbol_to_path(symbol), index_col='Date', parse_dates=True,\n",
    "                              usecols=['Date', 'Adj Close'], na_values=['nan'])    # NaN: Not a Number\n",
    "        df_temp = df_temp.rename(columns={'Adj Close' : symbol})\n",
    "        df = df.join(df_temp)\n",
    "        #df = df.join(df_temp, how='inner')\n",
    "        if symbol == 'SPY':\n",
    "            df = df.dropna(subset=['SPY'])\n",
    "    return df"
   ]
  },
  {
   "cell_type": "code",
   "execution_count": 22,
   "metadata": {
    "collapsed": false
   },
   "outputs": [],
   "source": [
    "# Download data to csv files\n",
    "from pandas_datareader.data import DataReader\n",
    "\n",
    "symbols = ['GOOG','IBM','GLD']\n",
    "SOURCE = 'yahoo'\n",
    "\n",
    "if 'SPY' not in symbols:\n",
    "    symbols.insert(0, 'SPY')\n",
    "\n",
    "for symbol in symbols:\n",
    "#    DataReader(symbol, SOURCE, start_date, end_date).to_csv(symbol_to_path(symbol))\n",
    "    df_temp = DataReader(symbol, SOURCE, start_date, end_date)\n",
    "    df_temp.to_csv(symbol_to_path(symbol))"
   ]
  },
  {
   "cell_type": "code",
   "execution_count": 23,
   "metadata": {
    "collapsed": false
   },
   "outputs": [
    {
     "data": {
      "text/html": [
       "<div>\n",
       "<table border=\"1\" class=\"dataframe\">\n",
       "  <thead>\n",
       "    <tr style=\"text-align: right;\">\n",
       "      <th></th>\n",
       "      <th>SPY</th>\n",
       "      <th>GOOG</th>\n",
       "      <th>IBM</th>\n",
       "      <th>GLD</th>\n",
       "    </tr>\n",
       "  </thead>\n",
       "  <tbody>\n",
       "    <tr>\n",
       "      <th>2017-03-17</th>\n",
       "      <td>237.029999</td>\n",
       "      <td>852.119995</td>\n",
       "      <td>175.649994</td>\n",
       "      <td>116.989998</td>\n",
       "    </tr>\n",
       "    <tr>\n",
       "      <th>2017-03-20</th>\n",
       "      <td>236.770004</td>\n",
       "      <td>848.400024</td>\n",
       "      <td>175.699997</td>\n",
       "      <td>117.510002</td>\n",
       "    </tr>\n",
       "    <tr>\n",
       "      <th>2017-03-21</th>\n",
       "      <td>233.729996</td>\n",
       "      <td>830.460022</td>\n",
       "      <td>173.880005</td>\n",
       "      <td>118.540001</td>\n",
       "    </tr>\n",
       "    <tr>\n",
       "      <th>2017-03-22</th>\n",
       "      <td>234.279999</td>\n",
       "      <td>829.590027</td>\n",
       "      <td>174.779999</td>\n",
       "      <td>118.830002</td>\n",
       "    </tr>\n",
       "    <tr>\n",
       "      <th>2017-03-23</th>\n",
       "      <td>234.029999</td>\n",
       "      <td>817.580017</td>\n",
       "      <td>174.820007</td>\n",
       "      <td>118.669998</td>\n",
       "    </tr>\n",
       "  </tbody>\n",
       "</table>\n",
       "</div>"
      ],
      "text/plain": [
       "                   SPY        GOOG         IBM         GLD\n",
       "2017-03-17  237.029999  852.119995  175.649994  116.989998\n",
       "2017-03-20  236.770004  848.400024  175.699997  117.510002\n",
       "2017-03-21  233.729996  830.460022  173.880005  118.540001\n",
       "2017-03-22  234.279999  829.590027  174.779999  118.830002\n",
       "2017-03-23  234.029999  817.580017  174.820007  118.669998"
      ]
     },
     "execution_count": 23,
     "metadata": {},
     "output_type": "execute_result"
    }
   ],
   "source": [
    "dates = pd.date_range(start_date, end_date)\n",
    "\n",
    "df = get_data(symbols, dates)\n",
    "df.tail()"
   ]
  }
 ],
 "metadata": {
  "anaconda-cloud": {},
  "kernelspec": {
   "display_name": "Python [conda root]",
   "language": "python",
   "name": "conda-root-py"
  },
  "language_info": {
   "codemirror_mode": {
    "name": "ipython",
    "version": 3
   },
   "file_extension": ".py",
   "mimetype": "text/x-python",
   "name": "python",
   "nbconvert_exporter": "python",
   "pygments_lexer": "ipython3",
   "version": "3.5.2"
  }
 },
 "nbformat": 4,
 "nbformat_minor": 1
}
