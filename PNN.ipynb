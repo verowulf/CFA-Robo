{
 "cells": [
  {
   "cell_type": "code",
   "execution_count": 1,
   "metadata": {
    "collapsed": false
   },
   "outputs": [],
   "source": [
    "import numpy as np\n",
    "import math\n",
    "\n",
    "# Probabilistic Neural Network with 4 layers\n",
    "class PNN(object):\n",
    "    def __init__(self):\n",
    "        self.L2 = []    # Layer 2 that holds the patterns\n",
    "        print('Empty PNN created.')\n",
    "\n",
    "    def train(self, X, y, p=2):\n",
    "        self.n_ = X.shape[1]  # num of features\n",
    "        self.p_ = p           # num of classes\n",
    "        \n",
    "        # Layer 2 (Pattern): Set up empty lists for each class\n",
    "        for k in range(self.p_):\n",
    "            self.L2.append([])    # Using Python's basic lists because ndarray cannot append empty arrays\n",
    "                                  # Also perhaps we might have to input different data types\n",
    "\n",
    "        # Enter patterns into Layer 2\n",
    "        for i in range(X.shape[0]):\n",
    "            self.L2[y[i]].append(X[i])\n",
    "        \n",
    "        self.L2 = np.array(self.L2)    # Change to ndarray for speed (Is this faster?)\n",
    "\n",
    "        print('PNN with %d classes trained.' % self.p_)\n",
    "\n",
    "    def crossValidate(self, X, y, sigma=0.5):\n",
    "        result = self.predict(X, sigma)\n",
    "        num_correct = sum(result[:, 0] == y)\n",
    "\n",
    "        print('Cross validation accuracy with sigma %.2f: %.1f%%' % (sigma, num_correct/len(y) * 100))\n",
    "\n",
    "    def predict(self, X, sigma=0.5):\n",
    "        m = X.shape[0]\n",
    "        accL3 = np.zeros((m, self.p_))\n",
    "        accL4 = np.zeros(m)\n",
    "\n",
    "        self.sigma_ = sigma    # smoothing parameter, not standard deviation\n",
    "        self.C1_ = 2 * self.sigma_**2\n",
    "        C2_ = (math.sqrt(2*math.pi) * self.sigma_) ** (- self.n_)\n",
    "        \n",
    "        # Layer 1 (Input): x\n",
    "        for i in range(m):\n",
    "            x = X[i]\n",
    "\n",
    "            # Layer 3 (Averaging): for each class\n",
    "            self.L3_ = np.zeros(self.p_)\n",
    "            for k in range(self.p_):\n",
    "                for ki in range(len(self.L2[k])):\n",
    "                    self.L3_[k] += self._activation(x, self.L2[k][ki])\n",
    "                self.L3_[k] /= len(self.L2[k])\n",
    "                \n",
    "                # Multiply constant\n",
    "                self.L3_[k] *= C2_\n",
    "                accL3[i][k] = self.L3_[k]\n",
    "\n",
    "            # Layer 4 (Output/Decision): Maxing\n",
    "            self.L4_ = self.L3_.argmax()\n",
    "            accL4[i] = self.L4_\n",
    "\n",
    "        return np.column_stack((accL4, accL3))\n",
    "\n",
    "    def _activation(self, x, w):\n",
    "        diff = x - w\n",
    "        return math.exp( - np.dot(diff, diff) / self.C1_ )\n",
    "\n",
    "\n",
    "# Normalize to unit length: [0, 1]\n",
    "# X must be ndarray\n",
    "def Normalize(X):\n",
    "    x_max = X.max(axis=0)\n",
    "    x_min = X.min(axis=0)\n",
    "    return (X - x_min) / (x_max - x_min)"
   ]
  },
  {
   "cell_type": "code",
   "execution_count": 2,
   "metadata": {
    "collapsed": true
   },
   "outputs": [],
   "source": [
    "# If no internet connection:\n",
    "from sklearn import datasets\n",
    "iris = datasets.load_iris()\n",
    "X = iris.data\n",
    "y = iris.target"
   ]
  },
  {
   "cell_type": "code",
   "execution_count": 3,
   "metadata": {
    "collapsed": false
   },
   "outputs": [],
   "source": [
    "# Elif internet connection:\n",
    "import pandas as pd\n",
    "df = pd.read_csv('https://archive.ics.uci.edu/ml/machine-learning-databases/iris/iris.data', header=None)\n",
    "df.tail()\n",
    "\n",
    "X = df.iloc[:, :4].values\n",
    "\n",
    "y = df.iloc[:, 4].values\n",
    "y[:50] = 0\n",
    "y[50:100] = 1\n",
    "y[100:] = 2"
   ]
  },
  {
   "cell_type": "code",
   "execution_count": 4,
   "metadata": {
    "collapsed": false
   },
   "outputs": [],
   "source": [
    "X_N = Normalize(X)\n",
    "\n",
    "# Training data\n",
    "X_tr = np.row_stack((X_N[0:40], X_N[50:90], X_N[100:140]))\n",
    "y_tr = np.append(np.append(y[0:40], y[50:90]), y[100:140])\n",
    "\n",
    "# Cross validation data (may be same as training data for a PNN)\n",
    "X_cv = X_tr\n",
    "y_cv = y_tr\n",
    "\n",
    "# Test data\n",
    "X_tt = np.row_stack((X_N[40:50], X_N[90:100], X_N[140:150]))\n",
    "y_tt = np.append(np.append(y[40:50], y[90:100]), y[140:150])"
   ]
  },
  {
   "cell_type": "code",
   "execution_count": 5,
   "metadata": {
    "collapsed": false
   },
   "outputs": [
    {
     "name": "stdout",
     "output_type": "stream",
     "text": [
      "Empty PNN created.\n"
     ]
    }
   ],
   "source": [
    "pnn = PNN()"
   ]
  },
  {
   "cell_type": "code",
   "execution_count": 6,
   "metadata": {
    "collapsed": false
   },
   "outputs": [
    {
     "name": "stdout",
     "output_type": "stream",
     "text": [
      "PNN with 3 classes trained.\n"
     ]
    }
   ],
   "source": [
    "pnn.train(X_tr, y_tr, p=3)"
   ]
  },
  {
   "cell_type": "code",
   "execution_count": 7,
   "metadata": {
    "collapsed": false
   },
   "outputs": [
    {
     "name": "stdout",
     "output_type": "stream",
     "text": [
      "Cross validation accuracy with sigma 0.01: 100.0%\n",
      "Cross validation accuracy with sigma 0.02: 100.0%\n",
      "Cross validation accuracy with sigma 0.03: 100.0%\n",
      "Cross validation accuracy with sigma 0.04: 100.0%\n",
      "Cross validation accuracy with sigma 0.05: 100.0%\n",
      "Cross validation accuracy with sigma 0.06: 100.0%\n",
      "Cross validation accuracy with sigma 0.07: 99.2%\n",
      "Cross validation accuracy with sigma 0.08: 98.3%\n",
      "Cross validation accuracy with sigma 0.09: 98.3%\n",
      "Cross validation accuracy with sigma 0.10: 97.5%\n",
      "Cross validation accuracy with sigma 0.11: 97.5%\n",
      "Cross validation accuracy with sigma 0.12: 98.3%\n",
      "Cross validation accuracy with sigma 0.13: 97.5%\n",
      "Cross validation accuracy with sigma 0.14: 95.8%\n",
      "Cross validation accuracy with sigma 0.15: 95.8%\n",
      "Cross validation accuracy with sigma 0.16: 95.8%\n",
      "Cross validation accuracy with sigma 0.17: 95.8%\n",
      "Cross validation accuracy with sigma 0.18: 95.0%\n",
      "Cross validation accuracy with sigma 0.19: 95.0%\n",
      "Cross validation accuracy with sigma 0.20: 95.0%\n"
     ]
    }
   ],
   "source": [
    "begin = 0.01\n",
    "end   = 0.20\n",
    "step  = 0.01\n",
    "\n",
    "s = begin\n",
    "while s < end+step:\n",
    "    pnn.crossValidate(X_cv, y_cv, sigma=s)\n",
    "    s += step"
   ]
  },
  {
   "cell_type": "code",
   "execution_count": 8,
   "metadata": {
    "collapsed": false
   },
   "outputs": [
    {
     "name": "stdout",
     "output_type": "stream",
     "text": [
      "[[  0.00000000e+000   5.99323316e+002   6.29656956e-053   4.18308273e-108]\n",
      " [  0.00000000e+000   3.40532007e-007   2.19610585e-027   4.67952523e-087]\n",
      " [  0.00000000e+000   1.26274829e+002   1.04912290e-046   1.95818887e-105]\n",
      " [  0.00000000e+000   3.20079156e+001   1.00349560e-037   2.67781114e-083]\n",
      " [  0.00000000e+000   8.14249043e+001   2.17549087e-050   7.26275555e-101]\n",
      " [  0.00000000e+000   3.32151701e+002   1.53563278e-032   5.61338047e-088]\n",
      " [  0.00000000e+000   1.83844328e+002   4.19223367e-064   3.91916205e-122]\n",
      " [  0.00000000e+000   5.59971358e+002   1.64768783e-043   2.65224567e-101]\n",
      " [  0.00000000e+000   3.05549132e+002   3.87679476e-059   1.17898134e-117]\n",
      " [  0.00000000e+000   5.69547110e+002   1.39723782e-046   5.33427774e-104]\n",
      " [  1.00000000e+000   1.60275796e-051   3.62980978e+001   7.12000824e-008]\n",
      " [  1.00000000e+000   8.44704358e-063   2.15832359e+002   7.07707084e-001]\n",
      " [  1.00000000e+000   3.52126513e-047   1.92454700e+002   2.55407743e-008]\n",
      " [  1.00000000e+000   3.24484554e-036   1.14392272e+002   1.53640404e-016]\n",
      " [  1.00000000e+000   7.01285500e-049   9.70890705e+001   1.10748132e-007]\n",
      " [  1.00000000e+000   3.89053159e-040   1.15863865e+002   2.91499106e-008]\n",
      " [  1.00000000e+000   2.54901506e-045   1.97892184e+002   2.83805576e-006]\n",
      " [  1.00000000e+000   3.28709427e-056   2.01582863e+002   4.12717324e-002]\n",
      " [  1.00000000e+000   1.75211219e-028   1.42348700e+001   5.24637804e-016]\n",
      " [  1.00000000e+000   1.57109706e-045   1.47844350e+002   6.69176107e-007]\n",
      " [  2.00000000e+000   1.91928395e-170   1.61730035e-011   3.93814234e+001]\n",
      " [  2.00000000e+000   1.29039109e-154   1.65020981e-007   2.16883740e+001]\n",
      " [  2.00000000e+000   3.37443539e-103   7.14453663e-001   2.82738062e+002]\n",
      " [  2.00000000e+000   5.99936620e-174   5.07930090e-011   1.49210426e+002]\n",
      " [  2.00000000e+000   9.04477101e-182   1.92292736e-017   1.06921419e+001]\n",
      " [  2.00000000e+000   2.30889838e-151   5.68952204e-007   2.11505732e+001]\n",
      " [  2.00000000e+000   3.93228268e-117   6.07916254e-002   2.55992952e+001]\n",
      " [  2.00000000e+000   9.39645955e-122   4.98959225e-001   6.03611710e+001]\n",
      " [  2.00000000e+000   5.90595308e-141   1.63806451e-007   8.92733905e+001]\n",
      " [  2.00000000e+000   4.79593578e-092   1.28036782e+001   1.55483705e+002]]\n"
     ]
    }
   ],
   "source": [
    "result = pnn.predict(X_tt, sigma=0.04)\n",
    "print(result)"
   ]
  },
  {
   "cell_type": "code",
   "execution_count": 9,
   "metadata": {
    "collapsed": false
   },
   "outputs": [
    {
     "name": "stdout",
     "output_type": "stream",
     "text": [
      "Empty PNN created.\n",
      "PNN with 3 classes trained.\n"
     ]
    }
   ],
   "source": [
    "from numpy.random import seed\n",
    "random_state = None\n",
    "seed(random_state)\n",
    "r = np.random.permutation(len(y))\n",
    "X_N2, y2 = X_N[r], y[r]\n",
    "\n",
    "# Training data\n",
    "X_tr2 = X_N2[:120]\n",
    "y_tr2 = y2[:120]\n",
    "\n",
    "# Cross validation data (may be same as training data for a PNN)\n",
    "X_cv2 = X_tr2\n",
    "y_cv2 = y_tr2\n",
    "\n",
    "# Test data\n",
    "X_tt2 = X_tt\n",
    "y_tt2 = y_tt\n",
    "\n",
    "pnn2 = PNN()\n",
    "pnn2.train(X_tr2, y_tr2, p=3)"
   ]
  },
  {
   "cell_type": "code",
   "execution_count": 10,
   "metadata": {
    "collapsed": false
   },
   "outputs": [
    {
     "name": "stdout",
     "output_type": "stream",
     "text": [
      "Cross validation accuracy with sigma 0.01: 100.0%\n",
      "Cross validation accuracy with sigma 0.02: 100.0%\n",
      "Cross validation accuracy with sigma 0.03: 100.0%\n",
      "Cross validation accuracy with sigma 0.04: 100.0%\n",
      "Cross validation accuracy with sigma 0.05: 100.0%\n",
      "Cross validation accuracy with sigma 0.06: 100.0%\n",
      "Cross validation accuracy with sigma 0.07: 99.2%\n",
      "Cross validation accuracy with sigma 0.08: 97.5%\n",
      "Cross validation accuracy with sigma 0.09: 97.5%\n",
      "Cross validation accuracy with sigma 0.10: 97.5%\n",
      "Cross validation accuracy with sigma 0.11: 97.5%\n",
      "Cross validation accuracy with sigma 0.12: 97.5%\n",
      "Cross validation accuracy with sigma 0.13: 96.7%\n",
      "Cross validation accuracy with sigma 0.14: 95.0%\n",
      "Cross validation accuracy with sigma 0.15: 95.8%\n",
      "Cross validation accuracy with sigma 0.16: 95.8%\n",
      "Cross validation accuracy with sigma 0.17: 95.8%\n",
      "Cross validation accuracy with sigma 0.18: 95.8%\n",
      "Cross validation accuracy with sigma 0.19: 95.8%\n",
      "Cross validation accuracy with sigma 0.20: 95.8%\n"
     ]
    }
   ],
   "source": [
    "begin = 0.01\n",
    "end   = 0.20\n",
    "step  = 0.01\n",
    "\n",
    "s = begin\n",
    "while s < end+step:\n",
    "    pnn2.crossValidate(X_cv2, y_cv2, sigma=s)\n",
    "    s += step"
   ]
  },
  {
   "cell_type": "code",
   "execution_count": 11,
   "metadata": {
    "collapsed": false
   },
   "outputs": [
    {
     "name": "stdout",
     "output_type": "stream",
     "text": [
      "[[  0.00000000e+000   7.51681028e+002   2.45730385e-048   4.18308273e-108]\n",
      " [  0.00000000e+000   2.41332850e+002   2.71690788e-027   4.67952523e-087]\n",
      " [  0.00000000e+000   3.64714236e+002   2.47878773e-045   1.95818887e-105]\n",
      " [  0.00000000e+000   1.37552620e+001   1.61538322e-035   2.67781114e-083]\n",
      " [  0.00000000e+000   5.98321143e+001   2.23856935e-050   7.26278765e-101]\n",
      " [  0.00000000e+000   5.54585729e+002   3.25749399e-030   5.61338047e-088]\n",
      " [  0.00000000e+000   4.55261939e+002   5.02473712e-064   3.91916546e-122]\n",
      " [  0.00000000e+000   6.30864065e+002   1.51260384e-041   2.65224567e-101]\n",
      " [  0.00000000e+000   5.78369863e+002   4.13437575e-059   1.17898151e-117]\n",
      " [  0.00000000e+000   6.88600667e+002   1.42518121e-042   5.33427774e-104]\n",
      " [  1.00000000e+000   1.56366630e-051   3.00654056e+002   4.09120150e-008]\n",
      " [  1.00000000e+000   8.24101812e-063   3.30979760e+002   7.09404130e-001]\n",
      " [  1.00000000e+000   3.43538061e-047   4.69892833e+002   1.02238973e-008]\n",
      " [  1.00000000e+000   4.20794022e-028   3.76846708e+002   1.53640403e-016]\n",
      " [  1.00000000e+000   6.84180975e-049   2.76111771e+002   1.08702740e-007]\n",
      " [  1.00000000e+000   3.79564056e-040   3.87338219e+002   2.93657492e-008]\n",
      " [  1.00000000e+000   2.48684396e-045   4.18421126e+002   2.88712068e-006]\n",
      " [  1.00000000e+000   3.20692124e-056   9.68865206e+001   4.12717999e-002]\n",
      " [  1.00000000e+000   1.95060858e-028   2.74183437e+002   5.24637804e-016]\n",
      " [  1.00000000e+000   1.53277762e-045   4.34912684e+002   6.70964309e-007]\n",
      " [  2.00000000e+000   1.87247214e-170   1.65876958e-011   3.17221790e+002]\n",
      " [  2.00000000e+000   1.25891814e-154   1.69252140e-007   7.76245089e+001]\n",
      " [  2.00000000e+000   3.29213208e-103   7.32767092e-001   5.30993008e+002]\n",
      " [  2.00000000e+000   5.85304019e-174   5.20953816e-011   1.86033834e+002]\n",
      " [  2.00000000e+000   8.82416684e-182   1.97223318e-017   2.71486419e+002]\n",
      " [  2.00000000e+000   2.25258379e-151   5.83540701e-007   2.86889331e+002]\n",
      " [  2.00000000e+000   3.83637335e-117   6.23231849e-002   2.63136474e+002]\n",
      " [  2.00000000e+000   9.16727761e-122   5.11750905e-001   2.68147440e+002]\n",
      " [  2.00000000e+000   5.76190544e-141   1.68006617e-007   2.57752703e+002]\n",
      " [  2.00000000e+000   4.67896174e-092   1.31227636e+001   4.03697790e+002]]\n"
     ]
    }
   ],
   "source": [
    "result2 = pnn2.predict(X_tt2, sigma=0.04)\n",
    "print(result2)"
   ]
  }
 ],
 "metadata": {
  "anaconda-cloud": {},
  "kernelspec": {
   "display_name": "Python [conda root]",
   "language": "python",
   "name": "conda-root-py"
  },
  "language_info": {
   "codemirror_mode": {
    "name": "ipython",
    "version": 3
   },
   "file_extension": ".py",
   "mimetype": "text/x-python",
   "name": "python",
   "nbconvert_exporter": "python",
   "pygments_lexer": "ipython3",
   "version": "3.5.2"
  }
 },
 "nbformat": 4,
 "nbformat_minor": 1
}
