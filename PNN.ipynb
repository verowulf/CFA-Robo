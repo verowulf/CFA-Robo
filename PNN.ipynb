{
 "cells": [
  {
   "cell_type": "code",
   "execution_count": 31,
   "metadata": {
    "collapsed": false
   },
   "outputs": [],
   "source": [
    "import numpy as np\n",
    "import math\n",
    "\n",
    "# Probabilistic Neural Network with 4 layers\n",
    "class PNN(object):\n",
    "    def __init__(self):\n",
    "        self.L2 = []    # Layer 2 that holds the patterns\n",
    "        print('Empty PNN created.')\n",
    "\n",
    "    def train(self, X, y, p=2):\n",
    "        self.n_ = X.shape[1]  # num of features\n",
    "        self.p_ = p           # num of classes\n",
    "        \n",
    "        # Layer 2 (Pattern): Set up empty lists for each class\n",
    "        for k in range(self.p_):\n",
    "            self.L2.append([])    # Using Python's basic lists because ndarray cannot append empty arrays\n",
    "                                  # Also perhaps we might have to input different data types\n",
    "\n",
    "        # Enter patterns into Layer 2\n",
    "        for i in range(X.shape[0]):\n",
    "            self.L2[y[i]].append(X[i])\n",
    "\n",
    "        print('PNN with %d classes trained.' % self.p_)\n",
    "\n",
    "    def crossValidate(self, X, y, sigma=0.5):\n",
    "        result = self.predict(X, sigma)\n",
    "        num_correct = sum(result[:, 0] == y)\n",
    "\n",
    "        print('Cross validation accuracy with sigma %.2f: %.1f%%' % (sigma, num_correct/len(y) * 100))\n",
    "\n",
    "    def predict(self, X, sigma=0.5):\n",
    "        m = X.shape[0]\n",
    "        accL3 = np.zeros((m, self.p_))\n",
    "        accL4 = np.zeros(m)\n",
    "\n",
    "        self.sigma_ = sigma    # smoothing parameter, not standard deviation\n",
    "        self.C1_ = 2 * self.sigma_**2\n",
    "        C2_ = (math.sqrt(2*math.pi) * self.sigma_) ** (- self.n_)\n",
    "        \n",
    "        # Layer 1 (Input): x\n",
    "        for i in range(m):\n",
    "            x = X[i]\n",
    "\n",
    "            # Layer 3 (Averaging): for each class\n",
    "            self.L3_ = np.zeros(self.p_)\n",
    "            for k in range(self.p_):\n",
    "                for ki in range(len(self.L2[k])):\n",
    "                    self.L3_[k] += self._activation(x, self.L2[k][ki])\n",
    "                self.L3_[k] /= len(self.L2[k])\n",
    "                \n",
    "                # Multiply constant\n",
    "                self.L3_[k] *= C2_\n",
    "                accL3[i][k] = self.L3_[k]\n",
    "\n",
    "            # Layer 4 (Output/Decision): Maxing\n",
    "            self.L4_ = self.L3_.argmax()\n",
    "            accL4[i] = self.L4_\n",
    "\n",
    "        return np.column_stack((accL4, accL3))\n",
    "\n",
    "    def _activation(self, x, w):\n",
    "        diff = x - w\n",
    "        return math.exp( - np.dot(diff, diff) / self.C1_ )\n",
    "\n",
    "\n",
    "# Normalize to unit length: [0, 1]\n",
    "# X must be ndarray\n",
    "def Normalize(X):\n",
    "    x_max = X.max(axis=0)\n",
    "    x_min = X.min(axis=0)\n",
    "    return (X - x_min) / (x_max - x_min)"
   ]
  },
  {
   "cell_type": "code",
   "execution_count": 32,
   "metadata": {
    "collapsed": true
   },
   "outputs": [],
   "source": [
    "# If no internet connection:\n",
    "from sklearn import datasets\n",
    "iris = datasets.load_iris()\n",
    "X = iris.data\n",
    "y = iris.target"
   ]
  },
  {
   "cell_type": "code",
   "execution_count": 3,
   "metadata": {
    "collapsed": false
   },
   "outputs": [],
   "source": [
    "# Elif internet connection:\n",
    "import pandas as pd\n",
    "\n",
    "# Let's change this to an already available library or a *.csv file\n",
    "\n",
    "df = pd.read_csv('https://archive.ics.uci.edu/ml/machine-learning-databases/iris/iris.data', header=None)\n",
    "df.tail()\n",
    "\n",
    "X = df.iloc[:, :4].values\n",
    "\n",
    "y = df.iloc[:, 4].values\n",
    "y[:50] = 0\n",
    "y[50:100] = 1\n",
    "y[100:] = 2"
   ]
  },
  {
   "cell_type": "code",
   "execution_count": 33,
   "metadata": {
    "collapsed": false
   },
   "outputs": [],
   "source": [
    "X_N = Normalize(X)\n",
    "\n",
    "# Training data\n",
    "X_tr = np.row_stack((X_N[0:40], X_N[50:90], X_N[100:140]))\n",
    "y_tr = np.append(np.append(y[0:40], y[50:90]), y[100:140])\n",
    "\n",
    "# Cross validation data (may be same as training data for a PNN)\n",
    "X_cv = X_tr\n",
    "y_cv = y_tr\n",
    "\n",
    "# Test data\n",
    "X_tt = np.row_stack((X_N[40:50], X_N[90:100], X_N[140:150]))\n",
    "y_tt = np.append(np.append(y[40:50], y[90:100]), y[140:150])"
   ]
  },
  {
   "cell_type": "code",
   "execution_count": 34,
   "metadata": {
    "collapsed": false
   },
   "outputs": [
    {
     "name": "stdout",
     "output_type": "stream",
     "text": [
      "Empty PNN created.\n"
     ]
    }
   ],
   "source": [
    "pnn = PNN()"
   ]
  },
  {
   "cell_type": "code",
   "execution_count": 35,
   "metadata": {
    "collapsed": false
   },
   "outputs": [
    {
     "name": "stdout",
     "output_type": "stream",
     "text": [
      "PNN with 3 classes trained.\n"
     ]
    }
   ],
   "source": [
    "pnn.train(X_tr, y_tr, p=3)"
   ]
  },
  {
   "cell_type": "code",
   "execution_count": 36,
   "metadata": {
    "collapsed": false
   },
   "outputs": [
    {
     "ename": "AttributeError",
     "evalue": "'PNN' object has no attribute 'C1_'",
     "output_type": "error",
     "traceback": [
      "\u001b[0;31m---------------------------------------------------------------------------\u001b[0m",
      "\u001b[0;31mAttributeError\u001b[0m                            Traceback (most recent call last)",
      "\u001b[0;32m<ipython-input-36-6c91a69cc784>\u001b[0m in \u001b[0;36m<module>\u001b[0;34m()\u001b[0m\n\u001b[1;32m      5\u001b[0m \u001b[0ms\u001b[0m \u001b[1;33m=\u001b[0m \u001b[0mbegin\u001b[0m\u001b[1;33m\u001b[0m\u001b[0m\n\u001b[1;32m      6\u001b[0m \u001b[1;32mwhile\u001b[0m \u001b[0ms\u001b[0m \u001b[1;33m<=\u001b[0m \u001b[0mend\u001b[0m\u001b[1;33m:\u001b[0m\u001b[1;33m\u001b[0m\u001b[0m\n\u001b[0;32m----> 7\u001b[0;31m     \u001b[0mpnn\u001b[0m\u001b[1;33m.\u001b[0m\u001b[0mcrossValidate\u001b[0m\u001b[1;33m(\u001b[0m\u001b[0mX_cv\u001b[0m\u001b[1;33m,\u001b[0m \u001b[0my_cv\u001b[0m\u001b[1;33m,\u001b[0m \u001b[0msigma\u001b[0m\u001b[1;33m=\u001b[0m\u001b[0ms\u001b[0m\u001b[1;33m)\u001b[0m\u001b[1;33m\u001b[0m\u001b[0m\n\u001b[0m\u001b[1;32m      8\u001b[0m     \u001b[0ms\u001b[0m \u001b[1;33m+=\u001b[0m \u001b[0mstep\u001b[0m\u001b[1;33m\u001b[0m\u001b[0m\n",
      "\u001b[0;32m<ipython-input-31-92a8bd1ad45e>\u001b[0m in \u001b[0;36mcrossValidate\u001b[0;34m(self, X, y, sigma)\u001b[0m\n\u001b[1;32m     24\u001b[0m \u001b[1;33m\u001b[0m\u001b[0m\n\u001b[1;32m     25\u001b[0m     \u001b[1;32mdef\u001b[0m \u001b[0mcrossValidate\u001b[0m\u001b[1;33m(\u001b[0m\u001b[0mself\u001b[0m\u001b[1;33m,\u001b[0m \u001b[0mX\u001b[0m\u001b[1;33m,\u001b[0m \u001b[0my\u001b[0m\u001b[1;33m,\u001b[0m \u001b[0msigma\u001b[0m\u001b[1;33m=\u001b[0m\u001b[1;36m0.5\u001b[0m\u001b[1;33m)\u001b[0m\u001b[1;33m:\u001b[0m\u001b[1;33m\u001b[0m\u001b[0m\n\u001b[0;32m---> 26\u001b[0;31m         \u001b[0mresult\u001b[0m \u001b[1;33m=\u001b[0m \u001b[0mself\u001b[0m\u001b[1;33m.\u001b[0m\u001b[0mpredict\u001b[0m\u001b[1;33m(\u001b[0m\u001b[0mX\u001b[0m\u001b[1;33m,\u001b[0m \u001b[0msigma\u001b[0m\u001b[1;33m)\u001b[0m\u001b[1;33m\u001b[0m\u001b[0m\n\u001b[0m\u001b[1;32m     27\u001b[0m         \u001b[0mnum_correct\u001b[0m \u001b[1;33m=\u001b[0m \u001b[0msum\u001b[0m\u001b[1;33m(\u001b[0m\u001b[0mresult\u001b[0m\u001b[1;33m[\u001b[0m\u001b[1;33m:\u001b[0m\u001b[1;33m,\u001b[0m \u001b[1;36m0\u001b[0m\u001b[1;33m]\u001b[0m \u001b[1;33m==\u001b[0m \u001b[0my\u001b[0m\u001b[1;33m)\u001b[0m\u001b[1;33m\u001b[0m\u001b[0m\n\u001b[1;32m     28\u001b[0m \u001b[1;33m\u001b[0m\u001b[0m\n",
      "\u001b[0;32m<ipython-input-31-92a8bd1ad45e>\u001b[0m in \u001b[0;36mpredict\u001b[0;34m(self, X, sigma)\u001b[0m\n\u001b[1;32m     46\u001b[0m             \u001b[1;32mfor\u001b[0m \u001b[0mk\u001b[0m \u001b[1;32min\u001b[0m \u001b[0mrange\u001b[0m\u001b[1;33m(\u001b[0m\u001b[0mself\u001b[0m\u001b[1;33m.\u001b[0m\u001b[0mp_\u001b[0m\u001b[1;33m)\u001b[0m\u001b[1;33m:\u001b[0m\u001b[1;33m\u001b[0m\u001b[0m\n\u001b[1;32m     47\u001b[0m                 \u001b[1;32mfor\u001b[0m \u001b[0mki\u001b[0m \u001b[1;32min\u001b[0m \u001b[0mrange\u001b[0m\u001b[1;33m(\u001b[0m\u001b[0mlen\u001b[0m\u001b[1;33m(\u001b[0m\u001b[0mself\u001b[0m\u001b[1;33m.\u001b[0m\u001b[0mL2\u001b[0m\u001b[1;33m[\u001b[0m\u001b[0mk\u001b[0m\u001b[1;33m]\u001b[0m\u001b[1;33m)\u001b[0m\u001b[1;33m)\u001b[0m\u001b[1;33m:\u001b[0m\u001b[1;33m\u001b[0m\u001b[0m\n\u001b[0;32m---> 48\u001b[0;31m                     \u001b[0mself\u001b[0m\u001b[1;33m.\u001b[0m\u001b[0mL3_\u001b[0m\u001b[1;33m[\u001b[0m\u001b[0mk\u001b[0m\u001b[1;33m]\u001b[0m \u001b[1;33m+=\u001b[0m \u001b[0mself\u001b[0m\u001b[1;33m.\u001b[0m\u001b[0m_activation\u001b[0m\u001b[1;33m(\u001b[0m\u001b[0mx\u001b[0m\u001b[1;33m,\u001b[0m \u001b[0mself\u001b[0m\u001b[1;33m.\u001b[0m\u001b[0mL2\u001b[0m\u001b[1;33m[\u001b[0m\u001b[0mk\u001b[0m\u001b[1;33m]\u001b[0m\u001b[1;33m[\u001b[0m\u001b[0mki\u001b[0m\u001b[1;33m]\u001b[0m\u001b[1;33m)\u001b[0m\u001b[1;33m\u001b[0m\u001b[0m\n\u001b[0m\u001b[1;32m     49\u001b[0m                 \u001b[0mself\u001b[0m\u001b[1;33m.\u001b[0m\u001b[0mL3_\u001b[0m\u001b[1;33m[\u001b[0m\u001b[0mk\u001b[0m\u001b[1;33m]\u001b[0m \u001b[1;33m/=\u001b[0m \u001b[0mlen\u001b[0m\u001b[1;33m(\u001b[0m\u001b[0mself\u001b[0m\u001b[1;33m.\u001b[0m\u001b[0mL2\u001b[0m\u001b[1;33m[\u001b[0m\u001b[0mk\u001b[0m\u001b[1;33m]\u001b[0m\u001b[1;33m)\u001b[0m\u001b[1;33m\u001b[0m\u001b[0m\n\u001b[1;32m     50\u001b[0m \u001b[1;33m\u001b[0m\u001b[0m\n",
      "\u001b[0;32m<ipython-input-31-92a8bd1ad45e>\u001b[0m in \u001b[0;36m_activation\u001b[0;34m(self, x, w)\u001b[0m\n\u001b[1;32m     61\u001b[0m     \u001b[1;32mdef\u001b[0m \u001b[0m_activation\u001b[0m\u001b[1;33m(\u001b[0m\u001b[0mself\u001b[0m\u001b[1;33m,\u001b[0m \u001b[0mx\u001b[0m\u001b[1;33m,\u001b[0m \u001b[0mw\u001b[0m\u001b[1;33m)\u001b[0m\u001b[1;33m:\u001b[0m\u001b[1;33m\u001b[0m\u001b[0m\n\u001b[1;32m     62\u001b[0m         \u001b[0mdiff\u001b[0m \u001b[1;33m=\u001b[0m \u001b[0mx\u001b[0m \u001b[1;33m-\u001b[0m \u001b[0mw\u001b[0m\u001b[1;33m\u001b[0m\u001b[0m\n\u001b[0;32m---> 63\u001b[0;31m         \u001b[1;32mreturn\u001b[0m \u001b[0mmath\u001b[0m\u001b[1;33m.\u001b[0m\u001b[0mexp\u001b[0m\u001b[1;33m(\u001b[0m \u001b[1;33m-\u001b[0m \u001b[0mnp\u001b[0m\u001b[1;33m.\u001b[0m\u001b[0mdot\u001b[0m\u001b[1;33m(\u001b[0m\u001b[0mdiff\u001b[0m\u001b[1;33m,\u001b[0m \u001b[0mdiff\u001b[0m\u001b[1;33m)\u001b[0m \u001b[1;33m/\u001b[0m \u001b[0mself\u001b[0m\u001b[1;33m.\u001b[0m\u001b[0mC1_\u001b[0m \u001b[1;33m)\u001b[0m\u001b[1;33m\u001b[0m\u001b[0m\n\u001b[0m\u001b[1;32m     64\u001b[0m \u001b[1;33m\u001b[0m\u001b[0m\n\u001b[1;32m     65\u001b[0m \u001b[1;33m\u001b[0m\u001b[0m\n",
      "\u001b[0;31mAttributeError\u001b[0m: 'PNN' object has no attribute 'C1_'"
     ]
    }
   ],
   "source": [
    "begin = 0.01\n",
    "end   = 0.20\n",
    "step  = 0.01\n",
    "\n",
    "s = begin\n",
    "while s <= end:\n",
    "    pnn.crossValidate(X_cv, y_cv, sigma=s)\n",
    "    s += step"
   ]
  },
  {
   "cell_type": "code",
   "execution_count": 30,
   "metadata": {
    "collapsed": false
   },
   "outputs": [
    {
     "name": "stdout",
     "output_type": "stream",
     "text": [
      "[[  0.00000000e+000   5.99323316e+002   6.29656956e-053   4.18308273e-108]\n",
      " [  0.00000000e+000   3.40532007e-007   2.19610585e-027   4.67952523e-087]\n",
      " [  0.00000000e+000   1.26274829e+002   1.04912290e-046   1.95818887e-105]\n",
      " [  0.00000000e+000   3.20079156e+001   1.00349560e-037   2.67781114e-083]\n",
      " [  0.00000000e+000   8.14249043e+001   2.17549087e-050   7.26275555e-101]\n",
      " [  0.00000000e+000   3.32151701e+002   1.53563278e-032   5.61338047e-088]\n",
      " [  0.00000000e+000   1.83844328e+002   4.19223367e-064   3.91916205e-122]\n",
      " [  0.00000000e+000   5.59971358e+002   1.64768783e-043   2.65224567e-101]\n",
      " [  0.00000000e+000   3.05549132e+002   3.87679476e-059   1.17898134e-117]\n",
      " [  0.00000000e+000   5.69547110e+002   1.39723782e-046   5.33427774e-104]\n",
      " [  1.00000000e+000   1.60275796e-051   3.62980978e+001   7.12000824e-008]\n",
      " [  1.00000000e+000   8.44704358e-063   2.15832359e+002   7.07707084e-001]\n",
      " [  1.00000000e+000   3.52126513e-047   1.92454700e+002   2.55407743e-008]\n",
      " [  1.00000000e+000   3.24484554e-036   1.14392272e+002   1.53640404e-016]\n",
      " [  1.00000000e+000   7.01285500e-049   9.70890705e+001   1.10748132e-007]\n",
      " [  1.00000000e+000   3.89053159e-040   1.15863865e+002   2.91499106e-008]\n",
      " [  1.00000000e+000   2.54901506e-045   1.97892184e+002   2.83805576e-006]\n",
      " [  1.00000000e+000   3.28709427e-056   2.01582863e+002   4.12717324e-002]\n",
      " [  1.00000000e+000   1.75211219e-028   1.42348700e+001   5.24637804e-016]\n",
      " [  1.00000000e+000   1.57109706e-045   1.47844350e+002   6.69176107e-007]\n",
      " [  2.00000000e+000   1.91928395e-170   1.61730035e-011   3.93814234e+001]\n",
      " [  2.00000000e+000   1.29039109e-154   1.65020981e-007   2.16883740e+001]\n",
      " [  2.00000000e+000   3.37443539e-103   7.14453663e-001   2.82738062e+002]\n",
      " [  2.00000000e+000   5.99936620e-174   5.07930090e-011   1.49210426e+002]\n",
      " [  2.00000000e+000   9.04477101e-182   1.92292736e-017   1.06921419e+001]\n",
      " [  2.00000000e+000   2.30889838e-151   5.68952204e-007   2.11505732e+001]\n",
      " [  2.00000000e+000   3.93228268e-117   6.07916254e-002   2.55992952e+001]\n",
      " [  2.00000000e+000   9.39645955e-122   4.98959225e-001   6.03611710e+001]\n",
      " [  2.00000000e+000   5.90595308e-141   1.63806451e-007   8.92733905e+001]\n",
      " [  2.00000000e+000   4.79593578e-092   1.28036782e+001   1.55483705e+002]]\n"
     ]
    }
   ],
   "source": [
    "result = pnn.predict(X_tt, sigma=0.04)\n",
    "print(result)"
   ]
  },
  {
   "cell_type": "code",
   "execution_count": 21,
   "metadata": {
    "collapsed": false
   },
   "outputs": [
    {
     "name": "stdout",
     "output_type": "stream",
     "text": [
      "Empty PNN created.\n",
      "PNN with 3 classes trained.\n"
     ]
    }
   ],
   "source": [
    "from numpy.random import seed\n",
    "random_state = None\n",
    "seed(random_state)\n",
    "r = np.random.permutation(len(y))\n",
    "X_N2, y2 = X_N[r], y[r]\n",
    "\n",
    "# Training data\n",
    "X_tr2 = X_N2[:120]\n",
    "y_tr2 = y2[:120]\n",
    "\n",
    "# Cross validation data (may be same as training data for a PNN)\n",
    "X_cv2 = X_tr2\n",
    "y_cv2 = y_tr2\n",
    "\n",
    "# Test data\n",
    "X_tt2 = X_tt\n",
    "y_tt2 = y_tt\n",
    "\n",
    "pnn2 = PNN()\n",
    "pnn2.train(X_tr2, y_tr2, p=3)"
   ]
  },
  {
   "cell_type": "code",
   "execution_count": 22,
   "metadata": {
    "collapsed": false
   },
   "outputs": [
    {
     "name": "stdout",
     "output_type": "stream",
     "text": [
      "Cross validation accuracy with sigma 0.01: 100.0%\n",
      "Cross validation accuracy with sigma 0.02: 100.0%\n",
      "Cross validation accuracy with sigma 0.03: 100.0%\n",
      "Cross validation accuracy with sigma 0.04: 100.0%\n",
      "Cross validation accuracy with sigma 0.05: 100.0%\n",
      "Cross validation accuracy with sigma 0.06: 100.0%\n",
      "Cross validation accuracy with sigma 0.07: 99.2%\n",
      "Cross validation accuracy with sigma 0.08: 99.2%\n",
      "Cross validation accuracy with sigma 0.09: 98.3%\n",
      "Cross validation accuracy with sigma 0.10: 97.5%\n",
      "Cross validation accuracy with sigma 0.11: 98.3%\n",
      "Cross validation accuracy with sigma 0.12: 98.3%\n",
      "Cross validation accuracy with sigma 0.13: 98.3%\n",
      "Cross validation accuracy with sigma 0.14: 96.7%\n",
      "Cross validation accuracy with sigma 0.15: 96.7%\n",
      "Cross validation accuracy with sigma 0.16: 96.7%\n",
      "Cross validation accuracy with sigma 0.17: 96.7%\n",
      "Cross validation accuracy with sigma 0.18: 96.7%\n",
      "Cross validation accuracy with sigma 0.19: 96.7%\n"
     ]
    }
   ],
   "source": [
    "begin = 0.01\n",
    "end   = 0.20\n",
    "step  = 0.01\n",
    "\n",
    "s = begin\n",
    "while s <= end:\n",
    "    pnn2.crossValidate(X_cv2, y_cv2, sigma=s)\n",
    "    s += step"
   ]
  },
  {
   "cell_type": "code",
   "execution_count": 23,
   "metadata": {
    "collapsed": false
   },
   "outputs": [
    {
     "name": "stdout",
     "output_type": "stream",
     "text": [
      "[[  0.00000000e+000   7.18639821e+002   2.33743449e-048   4.78066597e-108]\n",
      " [  0.00000000e+000   2.24878338e+002   2.16358177e-027   5.34802883e-087]\n",
      " [  0.00000000e+000   4.18088346e+002   2.35787054e-045   2.23793013e-105]\n",
      " [  0.00000000e+000   2.54778501e+002   1.52681535e-035   3.06035559e-083]\n",
      " [  0.00000000e+000   3.11794983e+002   9.02055402e-054   8.30032874e-101]\n",
      " [  0.00000000e+000   5.33164832e+002   3.09858556e-030   6.41529196e-088]\n",
      " [  0.00000000e+000   4.49309517e+002   1.02374859e-064   4.47904624e-122]\n",
      " [  0.00000000e+000   8.13429306e+002   1.43881799e-041   3.03113790e-101]\n",
      " [  0.00000000e+000   5.49609048e+002   3.47883079e-059   1.34740744e-117]\n",
      " [  0.00000000e+000   6.03929977e+002   1.35566017e-042   6.09631741e-104]\n",
      " [  1.00000000e+000   1.45705273e-051   2.84850934e+002   6.80464065e-008]\n",
      " [  1.00000000e+000   7.67954886e-063   4.22336077e+002   8.10680379e-001]\n",
      " [  1.00000000e+000   3.20115016e-047   4.31727773e+002   2.88035524e-008]\n",
      " [  1.00000000e+000   3.92103520e-028   1.17190651e+002   1.75589033e-016]\n",
      " [  1.00000000e+000   6.37532672e-049   2.81785753e+002   1.21501057e-007]\n",
      " [  1.00000000e+000   3.53715737e-040   2.06836167e+002   3.35581971e-008]\n",
      " [  1.00000000e+000   2.31735515e-045   5.55401578e+002   3.29882201e-006]\n",
      " [  1.00000000e+000   2.98827416e-056   4.59998812e+002   4.71662309e-002]\n",
      " [  1.00000000e+000   1.81761269e-028   2.55211060e+002   5.99586061e-016]\n",
      " [  1.00000000e+000   1.42827585e-045   5.15348630e+002   7.65987257e-007]\n",
      " [  2.00000000e+000   2.13965840e-170   1.57782467e-011   3.39990378e+002]\n",
      " [  2.00000000e+000   1.25698536e-154   1.60996076e-007   3.61424941e+002]\n",
      " [  2.00000000e+000   3.06776631e-103   6.96894334e-001   3.10355611e+002]\n",
      " [  2.00000000e+000   6.77002893e-174   4.95541355e-011   5.89867801e+001]\n",
      " [  2.00000000e+000   3.61339204e-180   1.87051194e-017   3.03180321e+002]\n",
      " [  2.00000000e+000   2.13657254e-151   5.55073647e-007   3.74081397e+002]\n",
      " [  2.00000000e+000   3.57480260e-117   5.93088146e-002   1.20715904e+001]\n",
      " [  2.00000000e+000   8.55771013e-122   4.86662442e-001   2.84193743e+001]\n",
      " [  2.00000000e+000   4.41028477e-138   4.11867525e-012   2.94575146e+002]\n",
      " [  2.00000000e+000   4.37942447e-092   1.78742503e-001   4.60367584e+002]]\n"
     ]
    }
   ],
   "source": [
    "result2 = pnn2.predict(X_tt2, sigma=0.04)\n",
    "print(result2)"
   ]
  }
 ],
 "metadata": {
  "anaconda-cloud": {},
  "kernelspec": {
   "display_name": "Python [conda root]",
   "language": "python",
   "name": "conda-root-py"
  },
  "language_info": {
   "codemirror_mode": {
    "name": "ipython",
    "version": 3
   },
   "file_extension": ".py",
   "mimetype": "text/x-python",
   "name": "python",
   "nbconvert_exporter": "python",
   "pygments_lexer": "ipython3",
   "version": "3.5.2"
  }
 },
 "nbformat": 4,
 "nbformat_minor": 1
}
