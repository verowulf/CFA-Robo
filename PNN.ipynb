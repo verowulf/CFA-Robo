{
 "cells": [
  {
   "cell_type": "code",
   "execution_count": 1,
   "metadata": {
    "collapsed": false
   },
   "outputs": [],
   "source": [
    "import numpy as np\n",
    "import math\n",
    "\n",
    "# Probabilistic Neural Network with 4 layers\n",
    "class PNN(object):\n",
    "    def __init__(self):\n",
    "        self.L2 = []         # Layer 2 that holds the patterns\n",
    "        print('Empty PNN created.')\n",
    "\n",
    "    def train(self, X, y, p=2):\n",
    "        self.n_ = X.shape[1]  # num of features\n",
    "        self.p_ = p           # num of classes\n",
    "        \n",
    "        # Layer 2 (Pattern): Set up empty lists for each class\n",
    "        for k in range(self.p_):\n",
    "            self.L2.append([])    # Using Python's basic lists because ndarray cannot append empty arrays\n",
    "                                  # Also perhaps we might have to input different data types\n",
    "\n",
    "        # Enter patterns into Layer 2\n",
    "        for i in range(X.shape[0]):\n",
    "            self.L2[y[i]].append(X[i])\n",
    "\n",
    "        print('PNN with', self.p_, 'classes trained.')\n",
    "\n",
    "    def crossValidate(self, X, y, sigma=0.5):\n",
    "        result = self.predict(X, sigma)\n",
    "        num_correct = sum(result[:, 0] == y)\n",
    "\n",
    "        print('Cross validation accuracy with sigma', sigma, ':', num_correct/len(y) * 100, '%')\n",
    "\n",
    "    def predict(self, X, sigma=0.5):\n",
    "        self.sigma_ = sigma   # smoothing parameter, not standard deviation\n",
    "        \n",
    "        m = X.shape[0]\n",
    "        accL3 = np.zeros((m, self.p_))\n",
    "        accL4 = np.zeros(m)\n",
    "       \n",
    "        # Layer 1 (Input): x\n",
    "        for i in range(m):\n",
    "            x = X[i]\n",
    "\n",
    "            # Layer 3 (Averaging): for each class\n",
    "            self.L3_ = np.zeros(self.p_)\n",
    "            for k in range(self.p_):\n",
    "                for ki in range(len(self.L2[k])):\n",
    "                    self.L3_[k] += self._activation(x, self.L2[k][ki])\n",
    "                self.L3_[k] /= len(self.L2[k])\n",
    "                \n",
    "                # Multiply constant\n",
    "                self.L3_[k] *= (math.sqrt(2*math.pi) * self.sigma_)**(- self.n_)\n",
    "                accL3[i][k] = self.L3_[k]\n",
    "\n",
    "            # Layer 4 (Output/Decision): Maxing\n",
    "            self.L4_ = self.L3_.argmax()\n",
    "            accL4[i] = self.L4_\n",
    "\n",
    "        return np.column_stack((accL4, accL3))\n",
    "\n",
    "    def _activation(self, x, w):\n",
    "        diff = x - w\n",
    "        return math.exp( - np.dot(diff, diff) / (2 * self.sigma_**2) )\n",
    "\n",
    "\n",
    "# Normalize to unit length: [0, 1]\n",
    "# X must be ndarray\n",
    "def Normalize(X):\n",
    "    x_max = X.max(axis=0)\n",
    "    x_min = X.min(axis=0)\n",
    "    return (X - x_min) / (x_max - x_min)"
   ]
  },
  {
   "cell_type": "code",
   "execution_count": 2,
   "metadata": {
    "collapsed": false
   },
   "outputs": [
    {
     "data": {
      "text/html": [
       "<div>\n",
       "<table border=\"1\" class=\"dataframe\">\n",
       "  <thead>\n",
       "    <tr style=\"text-align: right;\">\n",
       "      <th></th>\n",
       "      <th>0</th>\n",
       "      <th>1</th>\n",
       "      <th>2</th>\n",
       "      <th>3</th>\n",
       "      <th>4</th>\n",
       "    </tr>\n",
       "  </thead>\n",
       "  <tbody>\n",
       "    <tr>\n",
       "      <th>145</th>\n",
       "      <td>6.7</td>\n",
       "      <td>3.0</td>\n",
       "      <td>5.2</td>\n",
       "      <td>2.3</td>\n",
       "      <td>Iris-virginica</td>\n",
       "    </tr>\n",
       "    <tr>\n",
       "      <th>146</th>\n",
       "      <td>6.3</td>\n",
       "      <td>2.5</td>\n",
       "      <td>5.0</td>\n",
       "      <td>1.9</td>\n",
       "      <td>Iris-virginica</td>\n",
       "    </tr>\n",
       "    <tr>\n",
       "      <th>147</th>\n",
       "      <td>6.5</td>\n",
       "      <td>3.0</td>\n",
       "      <td>5.2</td>\n",
       "      <td>2.0</td>\n",
       "      <td>Iris-virginica</td>\n",
       "    </tr>\n",
       "    <tr>\n",
       "      <th>148</th>\n",
       "      <td>6.2</td>\n",
       "      <td>3.4</td>\n",
       "      <td>5.4</td>\n",
       "      <td>2.3</td>\n",
       "      <td>Iris-virginica</td>\n",
       "    </tr>\n",
       "    <tr>\n",
       "      <th>149</th>\n",
       "      <td>5.9</td>\n",
       "      <td>3.0</td>\n",
       "      <td>5.1</td>\n",
       "      <td>1.8</td>\n",
       "      <td>Iris-virginica</td>\n",
       "    </tr>\n",
       "  </tbody>\n",
       "</table>\n",
       "</div>"
      ],
      "text/plain": [
       "       0    1    2    3               4\n",
       "145  6.7  3.0  5.2  2.3  Iris-virginica\n",
       "146  6.3  2.5  5.0  1.9  Iris-virginica\n",
       "147  6.5  3.0  5.2  2.0  Iris-virginica\n",
       "148  6.2  3.4  5.4  2.3  Iris-virginica\n",
       "149  5.9  3.0  5.1  1.8  Iris-virginica"
      ]
     },
     "execution_count": 2,
     "metadata": {},
     "output_type": "execute_result"
    }
   ],
   "source": [
    "import pandas as pd\n",
    "\n",
    "df = pd.read_csv('https://archive.ics.uci.edu/ml/machine-learning-databases/iris/iris.data', header=None)\n",
    "df.tail()"
   ]
  },
  {
   "cell_type": "code",
   "execution_count": 3,
   "metadata": {
    "collapsed": false
   },
   "outputs": [],
   "source": [
    "X = df.iloc[:, :4].values\n",
    "\n",
    "y = df.iloc[:, 4].values\n",
    "y[:50] = 0\n",
    "y[50:100] = 1\n",
    "y[100:] = 2\n",
    "\n",
    "X_N = Normalize(X)\n",
    "\n",
    "# Training data\n",
    "X_tr = np.row_stack((X_N[0:40], X_N[50:90], X_N[100:140]))\n",
    "y_tr = np.append(np.append(y[0:40], y[50:90]), y[100:140])\n",
    "\n",
    "# Cross validation data (may be same as training data for a PNN)\n",
    "X_cv = X_tr\n",
    "y_cv = y_tr\n",
    "\n",
    "# Test data\n",
    "X_tt = np.row_stack((X_N[40:50], X_N[90:100], X_N[140:150]))\n",
    "y_tt = np.append(np.append(y[40:50], y[90:100]), y[140:150])"
   ]
  },
  {
   "cell_type": "code",
   "execution_count": 4,
   "metadata": {
    "collapsed": false
   },
   "outputs": [
    {
     "name": "stdout",
     "output_type": "stream",
     "text": [
      "Empty PNN created.\n"
     ]
    }
   ],
   "source": [
    "pnn = PNN()"
   ]
  },
  {
   "cell_type": "code",
   "execution_count": 5,
   "metadata": {
    "collapsed": false
   },
   "outputs": [
    {
     "name": "stdout",
     "output_type": "stream",
     "text": [
      "PNN with 3 classes trained.\n"
     ]
    }
   ],
   "source": [
    "pnn.train(X_tr, y_tr, p=3)"
   ]
  },
  {
   "cell_type": "code",
   "execution_count": 6,
   "metadata": {
    "collapsed": false
   },
   "outputs": [
    {
     "name": "stdout",
     "output_type": "stream",
     "text": [
      "Cross validation accuracy with sigma 0.1 : 97.5 %\n",
      "Cross validation accuracy with sigma 0.2 : 95.0 %\n",
      "Cross validation accuracy with sigma 0.3 : 93.3333333333 %\n",
      "Cross validation accuracy with sigma 0.4 : 90.8333333333 %\n",
      "Cross validation accuracy with sigma 0.5 : 90.0 %\n",
      "Cross validation accuracy with sigma 0.6 : 90.0 %\n",
      "Cross validation accuracy with sigma 0.7 : 90.0 %\n",
      "Cross validation accuracy with sigma 0.8 : 90.0 %\n",
      "Cross validation accuracy with sigma 0.9 : 90.0 %\n",
      "Cross validation accuracy with sigma 1.0 : 89.1666666667 %\n"
     ]
    }
   ],
   "source": [
    "n_iter = 10\n",
    "for s in range(n_iter):\n",
    "    pnn.crossValidate(X_cv, y_cv, sigma=(s+1)/n_iter)"
   ]
  },
  {
   "cell_type": "code",
   "execution_count": 8,
   "metadata": {
    "collapsed": false
   },
   "outputs": [
    {
     "data": {
      "text/plain": [
       "array([[  0.00000000e+00,   1.07741166e+01,   1.56835020e-02,\n",
       "          4.91822629e-05],\n",
       "       [  0.00000000e+00,   1.62208403e+00,   6.91375935e-02,\n",
       "          1.39710138e-04],\n",
       "       [  0.00000000e+00,   8.33815293e+00,   1.22895170e-02,\n",
       "          2.76397380e-05],\n",
       "       [  0.00000000e+00,   8.28425633e+00,   6.75636278e-02,\n",
       "          5.39788341e-04],\n",
       "       [  0.00000000e+00,   7.88460127e+00,   1.98765964e-02,\n",
       "          1.37981866e-04],\n",
       "       [  0.00000000e+00,   8.88399796e+00,   6.17833659e-02,\n",
       "          1.75062129e-04],\n",
       "       [  0.00000000e+00,   8.71468784e+00,   5.64125404e-03,\n",
       "          2.01686345e-05],\n",
       "       [  0.00000000e+00,   9.71942835e+00,   2.00969818e-02,\n",
       "          4.69501372e-05],\n",
       "       [  0.00000000e+00,   9.35852129e+00,   8.82996397e-03,\n",
       "          3.15970629e-05],\n",
       "       [  0.00000000e+00,   1.11170618e+01,   2.46684018e-02,\n",
       "          6.10155854e-05],\n",
       "       [  1.00000000e+00,   1.99285737e-02,   7.19971851e+00,\n",
       "          1.50876871e+00],\n",
       "       [  1.00000000e+00,   5.97588388e-03,   8.72307928e+00,\n",
       "          3.60736506e+00],\n",
       "       [  1.00000000e+00,   2.95404559e-02,   8.06315825e+00,\n",
       "          1.45810043e+00],\n",
       "       [  1.00000000e+00,   1.31603520e-01,   3.25507498e+00,\n",
       "          1.76643652e-01],\n",
       "       [  1.00000000e+00,   2.30319957e-02,   8.10361484e+00,\n",
       "          1.89322100e+00],\n",
       "       [  1.00000000e+00,   5.90053330e-02,   7.51398988e+00,\n",
       "          1.48470520e+00],\n",
       "       [  1.00000000e+00,   3.24705164e-02,   8.29292814e+00,\n",
       "          1.99649778e+00],\n",
       "       [  1.00000000e+00,   1.18532753e-02,   8.87884109e+00,\n",
       "          2.67408403e+00],\n",
       "       [  1.00000000e+00,   2.53588317e-01,   3.59134729e+00,\n",
       "          2.11329074e-01],\n",
       "       [  1.00000000e+00,   3.15853227e-02,   8.43207316e+00,\n",
       "          1.91860630e+00],\n",
       "       [  2.00000000e+00,   1.68398250e-07,   8.03727314e-01,\n",
       "          5.96959509e+00],\n",
       "       [  2.00000000e+00,   8.42014580e-07,   1.25198646e+00,\n",
       "          5.77568920e+00],\n",
       "       [  2.00000000e+00,   8.47735243e-05,   4.18425717e+00,\n",
       "          5.66578649e+00],\n",
       "       [  2.00000000e+00,   1.42081476e-07,   8.08986036e-01,\n",
       "          6.17141863e+00],\n",
       "       [  2.00000000e+00,   6.72450820e-08,   4.41436455e-01,\n",
       "          4.66214468e+00],\n",
       "       [  2.00000000e+00,   9.83360562e-07,   1.43798888e+00,\n",
       "          6.44772585e+00],\n",
       "       [  2.00000000e+00,   2.28817747e-05,   3.82327879e+00,\n",
       "          5.57329482e+00],\n",
       "       [  2.00000000e+00,   1.71312024e-05,   3.67467806e+00,\n",
       "          7.81009378e+00],\n",
       "       [  2.00000000e+00,   3.12522563e-06,   1.12246895e+00,\n",
       "          4.65176772e+00],\n",
       "       [  2.00000000e+00,   2.79747510e-04,   5.45707932e+00,\n",
       "          5.99219622e+00]])"
      ]
     },
     "execution_count": 8,
     "metadata": {},
     "output_type": "execute_result"
    }
   ],
   "source": [
    "pnn.predict(X_tt, sigma=0.2)"
   ]
  },
  {
   "cell_type": "code",
   "execution_count": null,
   "metadata": {
    "collapsed": true
   },
   "outputs": [],
   "source": []
  }
 ],
 "metadata": {
  "anaconda-cloud": {},
  "kernelspec": {
   "display_name": "Python [conda root]",
   "language": "python",
   "name": "conda-root-py"
  },
  "language_info": {
   "codemirror_mode": {
    "name": "ipython",
    "version": 3
   },
   "file_extension": ".py",
   "mimetype": "text/x-python",
   "name": "python",
   "nbconvert_exporter": "python",
   "pygments_lexer": "ipython3",
   "version": "3.5.2"
  }
 },
 "nbformat": 4,
 "nbformat_minor": 1
}
