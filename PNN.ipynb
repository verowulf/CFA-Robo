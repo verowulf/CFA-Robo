{
 "cells": [
  {
   "cell_type": "code",
   "execution_count": 1,
   "metadata": {
    "collapsed": false
   },
   "outputs": [],
   "source": [
    "import numpy as np\n",
    "import math\n",
    "\n",
    "# Probabilistic Neural Network with 4 layers\n",
    "class PNN(object):\n",
    "    def __init__(self):\n",
    "        self.L2 = []    # Layer 2 that holds the patterns\n",
    "        print('Empty PNN created.')\n",
    "\n",
    "    def train(self, X, y, p=2):\n",
    "        self.n_ = X.shape[1]  # num of features\n",
    "        self.p_ = p           # num of classes\n",
    "        \n",
    "        # Layer 2 (Pattern): Set up empty lists for each class\n",
    "        for k in range(self.p_):\n",
    "            self.L2.append([])    # Using Python's basic lists because ndarray cannot append empty arrays\n",
    "                                  # Also perhaps we might have to input different data types\n",
    "\n",
    "        # Enter patterns into Layer 2\n",
    "        for i in range(X.shape[0]):\n",
    "            self.L2[y[i]].append(X[i])\n",
    "\n",
    "        print('PNN with', self.p_, 'classes trained.')\n",
    "\n",
    "    def crossValidate(self, X, y, sigma=0.5):\n",
    "        result = self.predict(X, sigma)\n",
    "        num_correct = sum(result[:, 0] == y)\n",
    "\n",
    "        print('Cross validation accuracy with sigma', sigma, ':', num_correct/len(y) * 100, '%')\n",
    "\n",
    "    def predict(self, X, sigma=0.5):\n",
    "        self.sigma_ = sigma    # smoothing parameter, not standard deviation\n",
    "\n",
    "        m = X.shape[0]\n",
    "        accL3 = np.zeros((m, self.p_))\n",
    "        accL4 = np.zeros(m)\n",
    "\n",
    "        # Layer 1 (Input): x\n",
    "        for i in range(m):\n",
    "            x = X[i]\n",
    "\n",
    "            # Layer 3 (Averaging): for each class\n",
    "            self.L3_ = np.zeros(self.p_)\n",
    "            for k in range(self.p_):\n",
    "                for ki in range(len(self.L2[k])):\n",
    "                    self.L3_[k] += self._activation(x, self.L2[k][ki])\n",
    "                self.L3_[k] /= len(self.L2[k])\n",
    "                \n",
    "                # Multiply constant\n",
    "                self.L3_[k] *= (math.sqrt(2*math.pi) * self.sigma_)**(- self.n_)\n",
    "                accL3[i][k] = self.L3_[k]\n",
    "\n",
    "            # Layer 4 (Output/Decision): Maxing\n",
    "            self.L4_ = self.L3_.argmax()\n",
    "            accL4[i] = self.L4_\n",
    "\n",
    "        return np.column_stack((accL4, accL3))\n",
    "\n",
    "    def _activation(self, x, w):\n",
    "        diff = x - w\n",
    "        return math.exp( - np.dot(diff, diff) / (2 * self.sigma_**2) )\n",
    "\n",
    "\n",
    "# Normalize to unit length: [0, 1]\n",
    "# X must be ndarray\n",
    "def Normalize(X):\n",
    "    x_max = X.max(axis=0)\n",
    "    x_min = X.min(axis=0)\n",
    "    return (X - x_min) / (x_max - x_min)"
   ]
  },
  {
   "cell_type": "code",
   "execution_count": 2,
   "metadata": {
    "collapsed": false
   },
   "outputs": [
    {
     "data": {
      "text/html": [
       "<div>\n",
       "<table border=\"1\" class=\"dataframe\">\n",
       "  <thead>\n",
       "    <tr style=\"text-align: right;\">\n",
       "      <th></th>\n",
       "      <th>0</th>\n",
       "      <th>1</th>\n",
       "      <th>2</th>\n",
       "      <th>3</th>\n",
       "      <th>4</th>\n",
       "    </tr>\n",
       "  </thead>\n",
       "  <tbody>\n",
       "    <tr>\n",
       "      <th>145</th>\n",
       "      <td>6.7</td>\n",
       "      <td>3.0</td>\n",
       "      <td>5.2</td>\n",
       "      <td>2.3</td>\n",
       "      <td>Iris-virginica</td>\n",
       "    </tr>\n",
       "    <tr>\n",
       "      <th>146</th>\n",
       "      <td>6.3</td>\n",
       "      <td>2.5</td>\n",
       "      <td>5.0</td>\n",
       "      <td>1.9</td>\n",
       "      <td>Iris-virginica</td>\n",
       "    </tr>\n",
       "    <tr>\n",
       "      <th>147</th>\n",
       "      <td>6.5</td>\n",
       "      <td>3.0</td>\n",
       "      <td>5.2</td>\n",
       "      <td>2.0</td>\n",
       "      <td>Iris-virginica</td>\n",
       "    </tr>\n",
       "    <tr>\n",
       "      <th>148</th>\n",
       "      <td>6.2</td>\n",
       "      <td>3.4</td>\n",
       "      <td>5.4</td>\n",
       "      <td>2.3</td>\n",
       "      <td>Iris-virginica</td>\n",
       "    </tr>\n",
       "    <tr>\n",
       "      <th>149</th>\n",
       "      <td>5.9</td>\n",
       "      <td>3.0</td>\n",
       "      <td>5.1</td>\n",
       "      <td>1.8</td>\n",
       "      <td>Iris-virginica</td>\n",
       "    </tr>\n",
       "  </tbody>\n",
       "</table>\n",
       "</div>"
      ],
      "text/plain": [
       "       0    1    2    3               4\n",
       "145  6.7  3.0  5.2  2.3  Iris-virginica\n",
       "146  6.3  2.5  5.0  1.9  Iris-virginica\n",
       "147  6.5  3.0  5.2  2.0  Iris-virginica\n",
       "148  6.2  3.4  5.4  2.3  Iris-virginica\n",
       "149  5.9  3.0  5.1  1.8  Iris-virginica"
      ]
     },
     "execution_count": 2,
     "metadata": {},
     "output_type": "execute_result"
    }
   ],
   "source": [
    "import pandas as pd\n",
    "\n",
    "df = pd.read_csv('https://archive.ics.uci.edu/ml/machine-learning-databases/iris/iris.data', header=None)\n",
    "df.tail()"
   ]
  },
  {
   "cell_type": "code",
   "execution_count": 3,
   "metadata": {
    "collapsed": false
   },
   "outputs": [],
   "source": [
    "X = df.iloc[:, :4].values\n",
    "\n",
    "y = df.iloc[:, 4].values\n",
    "y[:50] = 0\n",
    "y[50:100] = 1\n",
    "y[100:] = 2\n",
    "\n",
    "X_N = Normalize(X)\n",
    "\n",
    "# Training data\n",
    "X_tr = np.row_stack((X_N[0:40], X_N[50:90], X_N[100:140]))\n",
    "y_tr = np.append(np.append(y[0:40], y[50:90]), y[100:140])\n",
    "\n",
    "# Cross validation data (may be same as training data for a PNN)\n",
    "X_cv = X_tr\n",
    "y_cv = y_tr\n",
    "\n",
    "# Test data\n",
    "X_tt = np.row_stack((X_N[40:50], X_N[90:100], X_N[140:150]))\n",
    "y_tt = np.append(np.append(y[40:50], y[90:100]), y[140:150])"
   ]
  },
  {
   "cell_type": "code",
   "execution_count": 4,
   "metadata": {
    "collapsed": false
   },
   "outputs": [
    {
     "name": "stdout",
     "output_type": "stream",
     "text": [
      "Empty PNN created.\n"
     ]
    }
   ],
   "source": [
    "pnn = PNN()"
   ]
  },
  {
   "cell_type": "code",
   "execution_count": 5,
   "metadata": {
    "collapsed": false
   },
   "outputs": [
    {
     "name": "stdout",
     "output_type": "stream",
     "text": [
      "PNN with 3 classes trained.\n"
     ]
    }
   ],
   "source": [
    "pnn.train(X_tr, y_tr, p=3)"
   ]
  },
  {
   "cell_type": "code",
   "execution_count": 6,
   "metadata": {
    "collapsed": false
   },
   "outputs": [
    {
     "name": "stdout",
     "output_type": "stream",
     "text": [
      "Cross validation accuracy with sigma 0.1 : 97.5 %\n",
      "Cross validation accuracy with sigma 0.2 : 95.0 %\n",
      "Cross validation accuracy with sigma 0.3 : 93.3333333333 %\n",
      "Cross validation accuracy with sigma 0.4 : 90.8333333333 %\n",
      "Cross validation accuracy with sigma 0.5 : 90.0 %\n",
      "Cross validation accuracy with sigma 0.6 : 90.0 %\n",
      "Cross validation accuracy with sigma 0.7 : 90.0 %\n",
      "Cross validation accuracy with sigma 0.8 : 90.0 %\n",
      "Cross validation accuracy with sigma 0.9 : 90.0 %\n",
      "Cross validation accuracy with sigma 1.0 : 89.1666666667 %\n"
     ]
    }
   ],
   "source": [
    "n_iter = 10\n",
    "for s in range(n_iter):\n",
    "    pnn.crossValidate(X_cv, y_cv, sigma=(s+1)/n_iter)"
   ]
  },
  {
   "cell_type": "code",
   "execution_count": 7,
   "metadata": {
    "collapsed": false
   },
   "outputs": [
    {
     "name": "stdout",
     "output_type": "stream",
     "text": [
      "[[ 0.          0.88633248  0.13599766  0.02351808]\n",
      " [ 0.          0.46479177  0.14495074  0.02016   ]\n",
      " [ 0.          0.80095261  0.10984012  0.01576763]\n",
      " [ 0.          0.82714536  0.20680046  0.04535853]\n",
      " [ 0.          0.80897973  0.15480814  0.03324777]\n",
      " [ 0.          0.81192232  0.17563272  0.02844401]\n",
      " [ 0.          0.83242541  0.10918628  0.01968301]\n",
      " [ 0.          0.8404094   0.12998154  0.01961307]\n",
      " [ 0.          0.84849294  0.1235897   0.02240711]\n",
      " [ 0.          0.88668957  0.14796587  0.02406152]\n",
      " [ 1.          0.16836468  0.77926535  0.41553547]\n",
      " [ 1.          0.12464073  0.82457446  0.59798557]\n",
      " [ 1.          0.18650972  0.80989642  0.42198754]\n",
      " [ 1.          0.25966721  0.54677625  0.18660435]\n",
      " [ 1.          0.17580319  0.81181204  0.45511965]\n",
      " [ 1.          0.22726354  0.79803544  0.44095711]\n",
      " [ 1.          0.19387981  0.82062785  0.47731591]\n",
      " [ 1.          0.14853016  0.83557199  0.54338924]\n",
      " [ 1.          0.31641467  0.58704309  0.20913101]\n",
      " [ 1.          0.1916662   0.82422856  0.46597688]\n",
      " [ 2.          0.00786193  0.38518016  0.72626432]\n",
      " [ 2.          0.01184802  0.43362308  0.72411169]\n",
      " [ 1.          0.04088621  0.67880543  0.67691755]\n",
      " [ 2.          0.0075198   0.37677969  0.73204478]\n",
      " [ 2.          0.0061336   0.31688591  0.66474722]\n",
      " [ 2.          0.01246041  0.46304745  0.74750446]\n",
      " [ 2.          0.02877966  0.65814254  0.69435447]\n",
      " [ 2.          0.02662358  0.61430313  0.7857412 ]\n",
      " [ 2.          0.0169196   0.42180228  0.66378138]\n",
      " [ 1.          0.05615482  0.71434451  0.70167659]]\n"
     ]
    }
   ],
   "source": [
    "result = pnn.predict(X_tt, sigma=0.4)\n",
    "print(result)"
   ]
  },
  {
   "cell_type": "code",
   "execution_count": 8,
   "metadata": {
    "collapsed": false
   },
   "outputs": [
    {
     "name": "stdout",
     "output_type": "stream",
     "text": [
      "Empty PNN created.\n",
      "PNN with 3 classes trained.\n"
     ]
    }
   ],
   "source": [
    "from numpy.random import seed\n",
    "random_state = None\n",
    "seed(random_state)\n",
    "r = np.random.permutation(len(y))\n",
    "X_N2, y2 = X_N[r], y[r]\n",
    "\n",
    "# Training data\n",
    "X_tr2 = X_N2[:120]\n",
    "y_tr2 = y2[:120]\n",
    "\n",
    "# Cross validation data (may be same as training data for a PNN)\n",
    "X_cv2 = X_tr2\n",
    "y_cv2 = y_tr2\n",
    "\n",
    "# Test data\n",
    "X_tt2 = X_tt\n",
    "y_tt2 = y_tt\n",
    "\n",
    "pnn2 = PNN()\n",
    "pnn2.train(X_tr2, y_tr2, p=3)"
   ]
  },
  {
   "cell_type": "code",
   "execution_count": 9,
   "metadata": {
    "collapsed": false
   },
   "outputs": [
    {
     "name": "stdout",
     "output_type": "stream",
     "text": [
      "Cross validation accuracy with sigma 0.1 : 98.3333333333 %\n",
      "Cross validation accuracy with sigma 0.2 : 96.6666666667 %\n",
      "Cross validation accuracy with sigma 0.3 : 96.6666666667 %\n",
      "Cross validation accuracy with sigma 0.4 : 95.8333333333 %\n",
      "Cross validation accuracy with sigma 0.5 : 95.0 %\n",
      "Cross validation accuracy with sigma 0.6 : 95.0 %\n",
      "Cross validation accuracy with sigma 0.7 : 94.1666666667 %\n",
      "Cross validation accuracy with sigma 0.8 : 91.6666666667 %\n",
      "Cross validation accuracy with sigma 0.9 : 91.6666666667 %\n",
      "Cross validation accuracy with sigma 1.0 : 91.6666666667 %\n"
     ]
    }
   ],
   "source": [
    "n_iter = 10\n",
    "for s in range(n_iter):\n",
    "    pnn2.crossValidate(X_cv2, y_cv2, sigma=(s+1)/n_iter)"
   ]
  },
  {
   "cell_type": "code",
   "execution_count": 10,
   "metadata": {
    "collapsed": false
   },
   "outputs": [
    {
     "name": "stdout",
     "output_type": "stream",
     "text": [
      "[[ 0.          0.87661707  0.14691445  0.02337442]\n",
      " [ 0.          0.47449517  0.15738993  0.01859058]\n",
      " [ 0.          0.79531441  0.11974304  0.01539947]\n",
      " [ 0.          0.8232929   0.22107534  0.04585834]\n",
      " [ 0.          0.80245188  0.16512243  0.03358445]\n",
      " [ 0.          0.80882536  0.19070096  0.02748838]\n",
      " [ 0.          0.82196159  0.11739903  0.01968104]\n",
      " [ 0.          0.83400682  0.14148625  0.01910409]\n",
      " [ 0.          0.8368278   0.13277668  0.02224439]\n",
      " [ 0.          0.87723771  0.16046503  0.0234766 ]\n",
      " [ 1.          0.17255101  0.79936287  0.40797532]\n",
      " [ 1.          0.12696221  0.82528302  0.60018814]\n",
      " [ 1.          0.19040991  0.82968111  0.41438739]\n",
      " [ 1.          0.26823936  0.57516137  0.17926259]\n",
      " [ 1.          0.17996934  0.82934561  0.45236311]\n",
      " [ 1.          0.23099171  0.81416325  0.44079162]\n",
      " [ 1.          0.19769726  0.83516511  0.47822004]\n",
      " [ 1.          0.15081376  0.84115469  0.54065539]\n",
      " [ 1.          0.32478167  0.61630698  0.20512423]\n",
      " [ 1.          0.19564519  0.84053393  0.46516682]\n",
      " [ 2.          0.00817098  0.36418946  0.75970773]\n",
      " [ 2.          0.01222557  0.41152274  0.75423325]\n",
      " [ 2.          0.04248187  0.66939843  0.69329253]\n",
      " [ 2.          0.00779432  0.35554446  0.75769099]\n",
      " [ 2.          0.00638698  0.29795622  0.70030816]\n",
      " [ 2.          0.0129045   0.44110403  0.7796515 ]\n",
      " [ 2.          0.02983584  0.64438192  0.7027615 ]\n",
      " [ 2.          0.02743915  0.59341567  0.80815967]\n",
      " [ 2.          0.01760225  0.40323531  0.70322865]\n",
      " [ 2.          0.05793752  0.70392331  0.72080716]]\n"
     ]
    }
   ],
   "source": [
    "result2 = pnn2.predict(X_tt2, sigma=0.4)\n",
    "print(result2)"
   ]
  }
 ],
 "metadata": {
  "anaconda-cloud": {},
  "kernelspec": {
   "display_name": "Python [conda root]",
   "language": "python",
   "name": "conda-root-py"
  },
  "language_info": {
   "codemirror_mode": {
    "name": "ipython",
    "version": 3
   },
   "file_extension": ".py",
   "mimetype": "text/x-python",
   "name": "python",
   "nbconvert_exporter": "python",
   "pygments_lexer": "ipython3",
   "version": "3.5.2"
  }
 },
 "nbformat": 4,
 "nbformat_minor": 1
}
