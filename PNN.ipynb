{
 "cells": [
  {
   "cell_type": "code",
   "execution_count": 1,
   "metadata": {
    "collapsed": false
   },
   "outputs": [],
   "source": [
    "import numpy as np\n",
    "import math\n",
    "\n",
    "# Probabilistic Neural Network with 4 layers\n",
    "class PNN(object):\n",
    "    def __init__(self):\n",
    "        self.L2 = []    # Layer 2 that holds the patterns\n",
    "        print('Empty PNN created.')\n",
    "\n",
    "    def train(self, X, y, p=2):\n",
    "        self.n_ = X.shape[1]  # num of features\n",
    "        self.p_ = p           # num of classes\n",
    "        \n",
    "        # Layer 2 (Pattern): Set up empty lists for each class\n",
    "        for k in range(self.p_):\n",
    "            self.L2.append([])    # Using Python's basic lists because ndarray cannot append empty arrays\n",
    "                                  # Also perhaps we might have to input different data types\n",
    "\n",
    "        # Enter patterns into Layer 2\n",
    "        for i in range(X.shape[0]):\n",
    "            self.L2[y[i]].append(X[i])\n",
    "\n",
    "        print('PNN with %d classes trained.' % self.p_)\n",
    "\n",
    "    def crossValidate(self, X, y, sigma=0.5):\n",
    "        result = self.predict(X, sigma)\n",
    "        num_correct = sum(result[:, 0] == y)\n",
    "\n",
    "        print('Cross validation accuracy with sigma %.2f: %.1f%%' % (sigma, num_correct/len(y) * 100))\n",
    "\n",
    "    def predict(self, X, sigma=0.5):\n",
    "        self.sigma_ = sigma    # smoothing parameter, not standard deviation\n",
    "\n",
    "        m = X.shape[0]\n",
    "        accL3 = np.zeros((m, self.p_))\n",
    "        accL4 = np.zeros(m)\n",
    "\n",
    "        # Layer 1 (Input): x\n",
    "        for i in range(m):\n",
    "            x = X[i]\n",
    "\n",
    "            # Layer 3 (Averaging): for each class\n",
    "            self.L3_ = np.zeros(self.p_)\n",
    "            for k in range(self.p_):\n",
    "                for ki in range(len(self.L2[k])):\n",
    "                    self.L3_[k] += self._activation(x, self.L2[k][ki])\n",
    "                self.L3_[k] /= len(self.L2[k])\n",
    "                \n",
    "                # Multiply constant\n",
    "                self.L3_[k] *= (math.sqrt(2*math.pi) * self.sigma_)**(- self.n_)\n",
    "                accL3[i][k] = self.L3_[k]\n",
    "\n",
    "            # Layer 4 (Output/Decision): Maxing\n",
    "            self.L4_ = self.L3_.argmax()\n",
    "            accL4[i] = self.L4_\n",
    "\n",
    "        return np.column_stack((accL4, accL3))\n",
    "\n",
    "    def _activation(self, x, w):\n",
    "        diff = x - w\n",
    "        return math.exp( - np.dot(diff, diff) / (2 * self.sigma_**2) )\n",
    "\n",
    "\n",
    "# Normalize to unit length: [0, 1]\n",
    "# X must be ndarray\n",
    "def Normalize(X):\n",
    "    x_max = X.max(axis=0)\n",
    "    x_min = X.min(axis=0)\n",
    "    return (X - x_min) / (x_max - x_min)"
   ]
  },
  {
   "cell_type": "code",
   "execution_count": 2,
   "metadata": {
    "collapsed": true
   },
   "outputs": [],
   "source": [
    "# If no internet connection:\n",
    "from sklearn import datasets\n",
    "iris = datasets.load_iris()\n",
    "X = iris.data\n",
    "y = iris.target"
   ]
  },
  {
   "cell_type": "code",
   "execution_count": 3,
   "metadata": {
    "collapsed": false
   },
   "outputs": [],
   "source": [
    "# Elif internet connection:\n",
    "import pandas as pd\n",
    "\n",
    "# Let's change this to an already available library or a *.csv file\n",
    "\n",
    "df = pd.read_csv('https://archive.ics.uci.edu/ml/machine-learning-databases/iris/iris.data', header=None)\n",
    "df.tail()\n",
    "\n",
    "X = df.iloc[:, :4].values\n",
    "\n",
    "y = df.iloc[:, 4].values\n",
    "y[:50] = 0\n",
    "y[50:100] = 1\n",
    "y[100:] = 2"
   ]
  },
  {
   "cell_type": "code",
   "execution_count": 4,
   "metadata": {
    "collapsed": false
   },
   "outputs": [],
   "source": [
    "X_N = Normalize(X)\n",
    "\n",
    "# Training data\n",
    "X_tr = np.row_stack((X_N[0:40], X_N[50:90], X_N[100:140]))\n",
    "y_tr = np.append(np.append(y[0:40], y[50:90]), y[100:140])\n",
    "\n",
    "# Cross validation data (may be same as training data for a PNN)\n",
    "X_cv = X_tr\n",
    "y_cv = y_tr\n",
    "\n",
    "# Test data\n",
    "X_tt = np.row_stack((X_N[40:50], X_N[90:100], X_N[140:150]))\n",
    "y_tt = np.append(np.append(y[40:50], y[90:100]), y[140:150])"
   ]
  },
  {
   "cell_type": "code",
   "execution_count": 5,
   "metadata": {
    "collapsed": false
   },
   "outputs": [
    {
     "name": "stdout",
     "output_type": "stream",
     "text": [
      "Empty PNN created.\n"
     ]
    }
   ],
   "source": [
    "pnn = PNN()"
   ]
  },
  {
   "cell_type": "code",
   "execution_count": 6,
   "metadata": {
    "collapsed": false
   },
   "outputs": [
    {
     "name": "stdout",
     "output_type": "stream",
     "text": [
      "PNN with 3 classes trained.\n"
     ]
    }
   ],
   "source": [
    "pnn.train(X_tr, y_tr, p=3)"
   ]
  },
  {
   "cell_type": "code",
   "execution_count": 7,
   "metadata": {
    "collapsed": false
   },
   "outputs": [
    {
     "name": "stdout",
     "output_type": "stream",
     "text": [
      "Cross validation accuracy with sigma 0.01: 100.0%\n",
      "Cross validation accuracy with sigma 0.02: 100.0%\n",
      "Cross validation accuracy with sigma 0.03: 100.0%\n",
      "Cross validation accuracy with sigma 0.04: 100.0%\n",
      "Cross validation accuracy with sigma 0.05: 100.0%\n",
      "Cross validation accuracy with sigma 0.06: 100.0%\n",
      "Cross validation accuracy with sigma 0.07: 99.2%\n",
      "Cross validation accuracy with sigma 0.08: 98.3%\n",
      "Cross validation accuracy with sigma 0.09: 98.3%\n",
      "Cross validation accuracy with sigma 0.10: 97.5%\n",
      "Cross validation accuracy with sigma 0.11: 97.5%\n",
      "Cross validation accuracy with sigma 0.12: 98.3%\n",
      "Cross validation accuracy with sigma 0.13: 97.5%\n",
      "Cross validation accuracy with sigma 0.14: 95.8%\n",
      "Cross validation accuracy with sigma 0.15: 95.8%\n",
      "Cross validation accuracy with sigma 0.16: 95.8%\n",
      "Cross validation accuracy with sigma 0.17: 95.8%\n",
      "Cross validation accuracy with sigma 0.18: 95.0%\n",
      "Cross validation accuracy with sigma 0.19: 95.0%\n"
     ]
    }
   ],
   "source": [
    "begin = 0.01\n",
    "end   = 0.20\n",
    "step  = 0.01\n",
    "\n",
    "s = begin\n",
    "while s <= end:\n",
    "    pnn.crossValidate(X_cv, y_cv, sigma=s)\n",
    "    s += step"
   ]
  },
  {
   "cell_type": "code",
   "execution_count": 8,
   "metadata": {
    "collapsed": false
   },
   "outputs": [
    {
     "name": "stdout",
     "output_type": "stream",
     "text": [
      "[[  0.00000000e+000   5.99323316e+002   6.29656956e-053   4.18308273e-108]\n",
      " [  0.00000000e+000   3.40532007e-007   2.19610585e-027   4.67952523e-087]\n",
      " [  0.00000000e+000   1.26274829e+002   1.04912290e-046   1.95818887e-105]\n",
      " [  0.00000000e+000   3.20079156e+001   1.00349560e-037   2.67781114e-083]\n",
      " [  0.00000000e+000   8.14249043e+001   2.17549087e-050   7.26275555e-101]\n",
      " [  0.00000000e+000   3.32151701e+002   1.53563278e-032   5.61338047e-088]\n",
      " [  0.00000000e+000   1.83844328e+002   4.19223367e-064   3.91916205e-122]\n",
      " [  0.00000000e+000   5.59971358e+002   1.64768783e-043   2.65224567e-101]\n",
      " [  0.00000000e+000   3.05549132e+002   3.87679476e-059   1.17898134e-117]\n",
      " [  0.00000000e+000   5.69547110e+002   1.39723782e-046   5.33427774e-104]\n",
      " [  1.00000000e+000   1.60275796e-051   3.62980978e+001   7.12000824e-008]\n",
      " [  1.00000000e+000   8.44704358e-063   2.15832359e+002   7.07707084e-001]\n",
      " [  1.00000000e+000   3.52126513e-047   1.92454700e+002   2.55407743e-008]\n",
      " [  1.00000000e+000   3.24484554e-036   1.14392272e+002   1.53640404e-016]\n",
      " [  1.00000000e+000   7.01285500e-049   9.70890705e+001   1.10748132e-007]\n",
      " [  1.00000000e+000   3.89053159e-040   1.15863865e+002   2.91499106e-008]\n",
      " [  1.00000000e+000   2.54901506e-045   1.97892184e+002   2.83805576e-006]\n",
      " [  1.00000000e+000   3.28709427e-056   2.01582863e+002   4.12717324e-002]\n",
      " [  1.00000000e+000   1.75211219e-028   1.42348700e+001   5.24637804e-016]\n",
      " [  1.00000000e+000   1.57109706e-045   1.47844350e+002   6.69176107e-007]\n",
      " [  2.00000000e+000   1.91928395e-170   1.61730035e-011   3.93814234e+001]\n",
      " [  2.00000000e+000   1.29039109e-154   1.65020981e-007   2.16883740e+001]\n",
      " [  2.00000000e+000   3.37443539e-103   7.14453663e-001   2.82738062e+002]\n",
      " [  2.00000000e+000   5.99936620e-174   5.07930090e-011   1.49210426e+002]\n",
      " [  2.00000000e+000   9.04477101e-182   1.92292736e-017   1.06921419e+001]\n",
      " [  2.00000000e+000   2.30889838e-151   5.68952204e-007   2.11505732e+001]\n",
      " [  2.00000000e+000   3.93228268e-117   6.07916254e-002   2.55992952e+001]\n",
      " [  2.00000000e+000   9.39645955e-122   4.98959225e-001   6.03611710e+001]\n",
      " [  2.00000000e+000   5.90595308e-141   1.63806451e-007   8.92733905e+001]\n",
      " [  2.00000000e+000   4.79593578e-092   1.28036782e+001   1.55483705e+002]]\n"
     ]
    }
   ],
   "source": [
    "result = pnn.predict(X_tt, sigma=0.04)\n",
    "print(result)"
   ]
  },
  {
   "cell_type": "code",
   "execution_count": 9,
   "metadata": {
    "collapsed": false
   },
   "outputs": [
    {
     "name": "stdout",
     "output_type": "stream",
     "text": [
      "Empty PNN created.\n",
      "PNN with 3 classes trained.\n"
     ]
    }
   ],
   "source": [
    "from numpy.random import seed\n",
    "random_state = None\n",
    "seed(random_state)\n",
    "r = np.random.permutation(len(y))\n",
    "X_N2, y2 = X_N[r], y[r]\n",
    "\n",
    "# Training data\n",
    "X_tr2 = X_N2[:120]\n",
    "y_tr2 = y2[:120]\n",
    "\n",
    "# Cross validation data (may be same as training data for a PNN)\n",
    "X_cv2 = X_tr2\n",
    "y_cv2 = y_tr2\n",
    "\n",
    "# Test data\n",
    "X_tt2 = X_tt\n",
    "y_tt2 = y_tt\n",
    "\n",
    "pnn2 = PNN()\n",
    "pnn2.train(X_tr2, y_tr2, p=3)"
   ]
  },
  {
   "cell_type": "code",
   "execution_count": 10,
   "metadata": {
    "collapsed": false
   },
   "outputs": [
    {
     "name": "stdout",
     "output_type": "stream",
     "text": [
      "Cross validation accuracy with sigma 0.01: 100.0%\n",
      "Cross validation accuracy with sigma 0.02: 100.0%\n",
      "Cross validation accuracy with sigma 0.03: 100.0%\n",
      "Cross validation accuracy with sigma 0.04: 100.0%\n",
      "Cross validation accuracy with sigma 0.05: 100.0%\n",
      "Cross validation accuracy with sigma 0.06: 100.0%\n",
      "Cross validation accuracy with sigma 0.07: 100.0%\n",
      "Cross validation accuracy with sigma 0.08: 100.0%\n",
      "Cross validation accuracy with sigma 0.09: 99.2%\n",
      "Cross validation accuracy with sigma 0.10: 99.2%\n",
      "Cross validation accuracy with sigma 0.11: 99.2%\n",
      "Cross validation accuracy with sigma 0.12: 98.3%\n",
      "Cross validation accuracy with sigma 0.13: 96.7%\n",
      "Cross validation accuracy with sigma 0.14: 96.7%\n",
      "Cross validation accuracy with sigma 0.15: 95.8%\n",
      "Cross validation accuracy with sigma 0.16: 95.8%\n",
      "Cross validation accuracy with sigma 0.17: 95.8%\n",
      "Cross validation accuracy with sigma 0.18: 95.8%\n",
      "Cross validation accuracy with sigma 0.19: 95.8%\n"
     ]
    }
   ],
   "source": [
    "begin = 0.01\n",
    "end   = 0.20\n",
    "step  = 0.01\n",
    "\n",
    "s = begin\n",
    "while s <= end:\n",
    "    pnn2.crossValidate(X_cv2, y_cv2, sigma=s)\n",
    "    s += step"
   ]
  },
  {
   "cell_type": "code",
   "execution_count": 11,
   "metadata": {
    "collapsed": false
   },
   "outputs": [
    {
     "name": "stdout",
     "output_type": "stream",
     "text": [
      "[[  0.00000000e+000   7.31079076e+002   2.52196879e-048   4.08105614e-108]\n",
      " [  0.00000000e+000   3.32298091e-007   2.33439086e-027   4.56539047e-087]\n",
      " [  0.00000000e+000   4.36520727e+002   2.54401821e-045   1.91042816e-105]\n",
      " [  0.00000000e+000   2.59651003e+002   1.64735340e-035   2.61248398e-083]\n",
      " [  0.00000000e+000   3.00816685e+002   7.66783298e-053   1.52735836e-104]\n",
      " [  0.00000000e+000   5.51890372e+002   3.34321074e-030   5.47646875e-088]\n",
      " [  0.00000000e+000   4.52878147e+002   1.10895013e-064   3.65147995e-124]\n",
      " [  0.00000000e+000   7.39293182e+002   1.55240889e-041   2.58755675e-101]\n",
      " [  0.00000000e+000   3.90009476e+002   3.75363719e-059   3.00221180e-118]\n",
      " [  0.00000000e+000   5.62688435e+002   1.46268597e-042   5.20417340e-104]\n",
      " [  1.00000000e+000   1.16720057e-058   3.56868472e+002   3.99140836e-008]\n",
      " [  1.00000000e+000   4.77259930e-067   1.77442180e+002   6.69610232e-001]\n",
      " [  1.00000000e+000   2.74822789e-054   5.03771891e+002   9.97436940e-009]\n",
      " [  1.00000000e+000   9.38138483e-036   1.26465018e+002   1.49893077e-016]\n",
      " [  1.00000000e+000   4.29259450e-055   5.40583973e+002   1.04090546e-007]\n",
      " [  1.00000000e+000   3.34666473e-044   2.86697664e+002   2.50664266e-008]\n",
      " [  1.00000000e+000   7.38683834e-050   3.32190236e+002   2.00301971e-006]\n",
      " [  1.00000000e+000   1.44626925e-060   3.93855944e+002   4.02578774e-002]\n",
      " [  1.00000000e+000   3.54248479e-030   2.75369516e+002   5.11841760e-016]\n",
      " [  1.00000000e+000   6.24366118e-051   5.13357588e+002   6.04853952e-007]\n",
      " [  2.00000000e+000   4.23746684e-171   1.70242142e-011   3.47988064e+002]\n",
      " [  2.00000000e+000   9.00547255e-156   1.73706296e-007   3.17459768e+002]\n",
      " [  2.00000000e+000   1.04927793e-107   7.46136369e-005   5.17889708e+002]\n",
      " [  2.00000000e+000   1.41235909e-174   5.34663252e-011   4.24870080e+002]\n",
      " [  2.00000000e+000   3.78954492e-180   2.02413406e-017   2.75260373e+002]\n",
      " [  2.00000000e+000   4.03236262e-153   5.98897057e-007   3.30701898e+002]\n",
      " [  2.00000000e+000   1.72158912e-124   5.91008384e-005   2.66352095e+002]\n",
      " [  2.00000000e+000   1.66082068e-124   5.25219492e-001   2.97350318e+002]\n",
      " [  2.00000000e+000   4.72722663e-138   1.72427843e-007   8.71155787e+001]\n",
      " [  2.00000000e+000   2.09084245e-094   1.32636659e+001   3.09334653e+002]]\n"
     ]
    }
   ],
   "source": [
    "result2 = pnn2.predict(X_tt2, sigma=0.04)\n",
    "print(result2)"
   ]
  }
 ],
 "metadata": {
  "anaconda-cloud": {},
  "kernelspec": {
   "display_name": "Python [conda root]",
   "language": "python",
   "name": "conda-root-py"
  },
  "language_info": {
   "codemirror_mode": {
    "name": "ipython",
    "version": 3
   },
   "file_extension": ".py",
   "mimetype": "text/x-python",
   "name": "python",
   "nbconvert_exporter": "python",
   "pygments_lexer": "ipython3",
   "version": "3.5.2"
  }
 },
 "nbformat": 4,
 "nbformat_minor": 1
}
